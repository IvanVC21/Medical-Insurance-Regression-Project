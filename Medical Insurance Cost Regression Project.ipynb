{
 "cells": [
  {
   "cell_type": "markdown",
   "metadata": {},
   "source": [
    "# Medical Insurance Linear Regression Project"
   ]
  },
  {
   "cell_type": "markdown",
   "metadata": {},
   "source": [
    "## Introduction"
   ]
  },
  {
   "cell_type": "markdown",
   "metadata": {},
   "source": [
    "The following project will consist of an analysis and a linear regression of a dataset that is on [Machine Learning with R by Brett Lantz](https://www.amazon.com/Machine-Learning-techniques-predictive-modeling/dp/1788295862/ref=sr_1_1?keywords=machine+learning+with+r&qid=1651102155&sr=8-1) book. The dataset contains information about a medical insurance clients and some of their health characteristics such as age, if the person is smoker or not or, Body Mass Index and the main variable that I want to predict for this particular project, the insurance charges."
   ]
  },
  {
   "cell_type": "markdown",
   "metadata": {},
   "source": [
    "## Data cleaning/pre-processing"
   ]
  },
  {
   "cell_type": "code",
   "execution_count": 1,
   "metadata": {},
   "outputs": [],
   "source": [
    "import pandas as pd \n",
    "import numpy as np \n",
    "import matplotlib.pyplot as plt \n",
    "import statsmodels.api as sm \n",
    "import seaborn as sns\n",
    "import warnings\n",
    "warnings.filterwarnings('ignore')"
   ]
  },
  {
   "cell_type": "code",
   "execution_count": 2,
   "metadata": {},
   "outputs": [
    {
     "name": "stdout",
     "output_type": "stream",
     "text": [
      "(1338, 7)\n"
     ]
    },
    {
     "data": {
      "text/html": [
       "<div>\n",
       "<style scoped>\n",
       "    .dataframe tbody tr th:only-of-type {\n",
       "        vertical-align: middle;\n",
       "    }\n",
       "\n",
       "    .dataframe tbody tr th {\n",
       "        vertical-align: top;\n",
       "    }\n",
       "\n",
       "    .dataframe thead th {\n",
       "        text-align: right;\n",
       "    }\n",
       "</style>\n",
       "<table border=\"1\" class=\"dataframe\">\n",
       "  <thead>\n",
       "    <tr style=\"text-align: right;\">\n",
       "      <th></th>\n",
       "      <th>age</th>\n",
       "      <th>sex</th>\n",
       "      <th>bmi</th>\n",
       "      <th>children</th>\n",
       "      <th>smoker</th>\n",
       "      <th>region</th>\n",
       "      <th>charges</th>\n",
       "    </tr>\n",
       "  </thead>\n",
       "  <tbody>\n",
       "    <tr>\n",
       "      <th>0</th>\n",
       "      <td>19</td>\n",
       "      <td>female</td>\n",
       "      <td>27.900</td>\n",
       "      <td>0</td>\n",
       "      <td>yes</td>\n",
       "      <td>southwest</td>\n",
       "      <td>16884.92400</td>\n",
       "    </tr>\n",
       "    <tr>\n",
       "      <th>1</th>\n",
       "      <td>18</td>\n",
       "      <td>male</td>\n",
       "      <td>33.770</td>\n",
       "      <td>1</td>\n",
       "      <td>no</td>\n",
       "      <td>southeast</td>\n",
       "      <td>1725.55230</td>\n",
       "    </tr>\n",
       "    <tr>\n",
       "      <th>2</th>\n",
       "      <td>28</td>\n",
       "      <td>male</td>\n",
       "      <td>33.000</td>\n",
       "      <td>3</td>\n",
       "      <td>no</td>\n",
       "      <td>southeast</td>\n",
       "      <td>4449.46200</td>\n",
       "    </tr>\n",
       "    <tr>\n",
       "      <th>3</th>\n",
       "      <td>33</td>\n",
       "      <td>male</td>\n",
       "      <td>22.705</td>\n",
       "      <td>0</td>\n",
       "      <td>no</td>\n",
       "      <td>northwest</td>\n",
       "      <td>21984.47061</td>\n",
       "    </tr>\n",
       "    <tr>\n",
       "      <th>4</th>\n",
       "      <td>32</td>\n",
       "      <td>male</td>\n",
       "      <td>28.880</td>\n",
       "      <td>0</td>\n",
       "      <td>no</td>\n",
       "      <td>northwest</td>\n",
       "      <td>3866.85520</td>\n",
       "    </tr>\n",
       "  </tbody>\n",
       "</table>\n",
       "</div>"
      ],
      "text/plain": [
       "   age     sex     bmi  children smoker     region      charges\n",
       "0   19  female  27.900         0    yes  southwest  16884.92400\n",
       "1   18    male  33.770         1     no  southeast   1725.55230\n",
       "2   28    male  33.000         3     no  southeast   4449.46200\n",
       "3   33    male  22.705         0     no  northwest  21984.47061\n",
       "4   32    male  28.880         0     no  northwest   3866.85520"
      ]
     },
     "execution_count": 2,
     "metadata": {},
     "output_type": "execute_result"
    }
   ],
   "source": [
    "read_path = r'D:\\Insurance Kaggle\\\\'\n",
    "read_file = 'insurance.csv'\n",
    "df = pd.read_csv('insurance.csv')\n",
    "print(df.shape)\n",
    "df.head()"
   ]
  },
  {
   "cell_type": "code",
   "execution_count": 3,
   "metadata": {},
   "outputs": [
    {
     "name": "stdout",
     "output_type": "stream",
     "text": [
      "<class 'pandas.core.frame.DataFrame'>\n",
      "RangeIndex: 1338 entries, 0 to 1337\n",
      "Data columns (total 7 columns):\n",
      " #   Column    Non-Null Count  Dtype  \n",
      "---  ------    --------------  -----  \n",
      " 0   age       1338 non-null   int64  \n",
      " 1   sex       1338 non-null   object \n",
      " 2   bmi       1338 non-null   float64\n",
      " 3   children  1338 non-null   int64  \n",
      " 4   smoker    1338 non-null   object \n",
      " 5   region    1338 non-null   object \n",
      " 6   charges   1338 non-null   float64\n",
      "dtypes: float64(2), int64(2), object(3)\n",
      "memory usage: 73.3+ KB\n"
     ]
    }
   ],
   "source": [
    "df.info()"
   ]
  },
  {
   "cell_type": "code",
   "execution_count": 4,
   "metadata": {},
   "outputs": [
    {
     "data": {
      "text/plain": [
       "age         0\n",
       "sex         0\n",
       "bmi         0\n",
       "children    0\n",
       "smoker      0\n",
       "region      0\n",
       "charges     0\n",
       "dtype: int64"
      ]
     },
     "execution_count": 4,
     "metadata": {},
     "output_type": "execute_result"
    }
   ],
   "source": [
    "df.isna().sum()"
   ]
  },
  {
   "cell_type": "markdown",
   "metadata": {},
   "source": [
    " Fortunately, we dont have any null value."
   ]
  },
  {
   "cell_type": "code",
   "execution_count": 5,
   "metadata": {},
   "outputs": [
    {
     "data": {
      "text/plain": [
       "age           int64\n",
       "sex          object\n",
       "bmi         float64\n",
       "children      int64\n",
       "smoker       object\n",
       "region       object\n",
       "charges     float64\n",
       "dtype: object"
      ]
     },
     "execution_count": 5,
     "metadata": {},
     "output_type": "execute_result"
    }
   ],
   "source": [
    "df.dtypes\n"
   ]
  },
  {
   "cell_type": "code",
   "execution_count": 6,
   "metadata": {},
   "outputs": [
    {
     "name": "stdout",
     "output_type": "stream",
     "text": [
      "Sex: \n",
      " male      676\n",
      "female    662\n",
      "Name: sex, dtype: int64\n",
      "Smoker: \n",
      " no     1064\n",
      "yes     274\n",
      "Name: smoker, dtype: int64\n",
      "Region: \n",
      " southeast    364\n",
      "southwest    325\n",
      "northwest    325\n",
      "northeast    324\n",
      "Name: region, dtype: int64\n"
     ]
    }
   ],
   "source": [
    "print(\"Sex: \\n\",df['sex'].value_counts())\n",
    "print(\"Smoker: \\n\",df['smoker'].value_counts())\n",
    "print(\"Region: \\n\",df['region'].value_counts())"
   ]
  },
  {
   "cell_type": "code",
   "execution_count": 7,
   "metadata": {
    "scrolled": true
   },
   "outputs": [
    {
     "name": "stdout",
     "output_type": "stream",
     "text": [
      "age                   int64\n",
      "bmi                 float64\n",
      "children              int64\n",
      "charges             float64\n",
      "sex_female            uint8\n",
      "sex_male              uint8\n",
      "smoker_no             uint8\n",
      "smoker_yes            uint8\n",
      "region_northeast      uint8\n",
      "region_northwest      uint8\n",
      "region_southeast      uint8\n",
      "region_southwest      uint8\n",
      "dtype: object\n",
      "Index(['age', 'bmi', 'children', 'charges', 'sex_female', 'sex_male',\n",
      "       'smoker_no', 'smoker_yes', 'region_northeast', 'region_northwest',\n",
      "       'region_southeast', 'region_southwest'],\n",
      "      dtype='object')\n"
     ]
    },
    {
     "data": {
      "text/html": [
       "<div>\n",
       "<style scoped>\n",
       "    .dataframe tbody tr th:only-of-type {\n",
       "        vertical-align: middle;\n",
       "    }\n",
       "\n",
       "    .dataframe tbody tr th {\n",
       "        vertical-align: top;\n",
       "    }\n",
       "\n",
       "    .dataframe thead th {\n",
       "        text-align: right;\n",
       "    }\n",
       "</style>\n",
       "<table border=\"1\" class=\"dataframe\">\n",
       "  <thead>\n",
       "    <tr style=\"text-align: right;\">\n",
       "      <th></th>\n",
       "      <th>charges</th>\n",
       "      <th>age</th>\n",
       "      <th>bmi</th>\n",
       "      <th>children</th>\n",
       "      <th>sex_female</th>\n",
       "      <th>sex_male</th>\n",
       "      <th>smoker_no</th>\n",
       "      <th>smoker_yes</th>\n",
       "      <th>region_northeast</th>\n",
       "      <th>region_northwest</th>\n",
       "      <th>region_southeast</th>\n",
       "      <th>region_southwest</th>\n",
       "    </tr>\n",
       "  </thead>\n",
       "  <tbody>\n",
       "    <tr>\n",
       "      <th>0</th>\n",
       "      <td>16884.92400</td>\n",
       "      <td>19</td>\n",
       "      <td>27.900</td>\n",
       "      <td>0</td>\n",
       "      <td>1</td>\n",
       "      <td>0</td>\n",
       "      <td>0</td>\n",
       "      <td>1</td>\n",
       "      <td>0</td>\n",
       "      <td>0</td>\n",
       "      <td>0</td>\n",
       "      <td>1</td>\n",
       "    </tr>\n",
       "    <tr>\n",
       "      <th>1</th>\n",
       "      <td>1725.55230</td>\n",
       "      <td>18</td>\n",
       "      <td>33.770</td>\n",
       "      <td>1</td>\n",
       "      <td>0</td>\n",
       "      <td>1</td>\n",
       "      <td>1</td>\n",
       "      <td>0</td>\n",
       "      <td>0</td>\n",
       "      <td>0</td>\n",
       "      <td>1</td>\n",
       "      <td>0</td>\n",
       "    </tr>\n",
       "    <tr>\n",
       "      <th>2</th>\n",
       "      <td>4449.46200</td>\n",
       "      <td>28</td>\n",
       "      <td>33.000</td>\n",
       "      <td>3</td>\n",
       "      <td>0</td>\n",
       "      <td>1</td>\n",
       "      <td>1</td>\n",
       "      <td>0</td>\n",
       "      <td>0</td>\n",
       "      <td>0</td>\n",
       "      <td>1</td>\n",
       "      <td>0</td>\n",
       "    </tr>\n",
       "    <tr>\n",
       "      <th>3</th>\n",
       "      <td>21984.47061</td>\n",
       "      <td>33</td>\n",
       "      <td>22.705</td>\n",
       "      <td>0</td>\n",
       "      <td>0</td>\n",
       "      <td>1</td>\n",
       "      <td>1</td>\n",
       "      <td>0</td>\n",
       "      <td>0</td>\n",
       "      <td>1</td>\n",
       "      <td>0</td>\n",
       "      <td>0</td>\n",
       "    </tr>\n",
       "    <tr>\n",
       "      <th>4</th>\n",
       "      <td>3866.85520</td>\n",
       "      <td>32</td>\n",
       "      <td>28.880</td>\n",
       "      <td>0</td>\n",
       "      <td>0</td>\n",
       "      <td>1</td>\n",
       "      <td>1</td>\n",
       "      <td>0</td>\n",
       "      <td>0</td>\n",
       "      <td>1</td>\n",
       "      <td>0</td>\n",
       "      <td>0</td>\n",
       "    </tr>\n",
       "  </tbody>\n",
       "</table>\n",
       "</div>"
      ],
      "text/plain": [
       "       charges  age     bmi  children  sex_female  sex_male  smoker_no  \\\n",
       "0  16884.92400   19  27.900         0           1         0          0   \n",
       "1   1725.55230   18  33.770         1           0         1          1   \n",
       "2   4449.46200   28  33.000         3           0         1          1   \n",
       "3  21984.47061   33  22.705         0           0         1          1   \n",
       "4   3866.85520   32  28.880         0           0         1          1   \n",
       "\n",
       "   smoker_yes  region_northeast  region_northwest  region_southeast  \\\n",
       "0           1                 0                 0                 0   \n",
       "1           0                 0                 0                 1   \n",
       "2           0                 0                 0                 1   \n",
       "3           0                 0                 1                 0   \n",
       "4           0                 0                 1                 0   \n",
       "\n",
       "   region_southwest  \n",
       "0                 1  \n",
       "1                 0  \n",
       "2                 0  \n",
       "3                 0  \n",
       "4                 0  "
      ]
     },
     "execution_count": 7,
     "metadata": {},
     "output_type": "execute_result"
    }
   ],
   "source": [
    "df2 = pd.get_dummies(df)\n",
    "print(df2.dtypes)\n",
    "print(df2.columns)\n",
    "\n",
    "cols = ['charges','age', 'bmi', 'children', 'sex_female', 'sex_male',\n",
    "       'smoker_no', 'smoker_yes', 'region_northeast', 'region_northwest',\n",
    "       'region_southeast', 'region_southwest']\n",
    "df2 = df2[cols]\n",
    "df2.head()"
   ]
  },
  {
   "cell_type": "markdown",
   "metadata": {},
   "source": [
    "Categorical variables were transformed into dummy variables in order to be able to use them in the models."
   ]
  },
  {
   "cell_type": "markdown",
   "metadata": {},
   "source": [
    "## Exploratory Data Analysis (EDA)"
   ]
  },
  {
   "cell_type": "code",
   "execution_count": 8,
   "metadata": {},
   "outputs": [
    {
     "data": {
      "text/html": [
       "<div>\n",
       "<style scoped>\n",
       "    .dataframe tbody tr th:only-of-type {\n",
       "        vertical-align: middle;\n",
       "    }\n",
       "\n",
       "    .dataframe tbody tr th {\n",
       "        vertical-align: top;\n",
       "    }\n",
       "\n",
       "    .dataframe thead th {\n",
       "        text-align: right;\n",
       "    }\n",
       "</style>\n",
       "<table border=\"1\" class=\"dataframe\">\n",
       "  <thead>\n",
       "    <tr style=\"text-align: right;\">\n",
       "      <th></th>\n",
       "      <th>charges</th>\n",
       "      <th>age</th>\n",
       "      <th>bmi</th>\n",
       "      <th>children</th>\n",
       "      <th>sex_female</th>\n",
       "      <th>sex_male</th>\n",
       "      <th>smoker_no</th>\n",
       "      <th>smoker_yes</th>\n",
       "      <th>region_northeast</th>\n",
       "      <th>region_northwest</th>\n",
       "      <th>region_southeast</th>\n",
       "      <th>region_southwest</th>\n",
       "    </tr>\n",
       "  </thead>\n",
       "  <tbody>\n",
       "    <tr>\n",
       "      <th>count</th>\n",
       "      <td>1338.000000</td>\n",
       "      <td>1338.000000</td>\n",
       "      <td>1338.000000</td>\n",
       "      <td>1338.000000</td>\n",
       "      <td>1338.000000</td>\n",
       "      <td>1338.000000</td>\n",
       "      <td>1338.000000</td>\n",
       "      <td>1338.000000</td>\n",
       "      <td>1338.000000</td>\n",
       "      <td>1338.000000</td>\n",
       "      <td>1338.000000</td>\n",
       "      <td>1338.000000</td>\n",
       "    </tr>\n",
       "    <tr>\n",
       "      <th>mean</th>\n",
       "      <td>13270.422265</td>\n",
       "      <td>39.207025</td>\n",
       "      <td>30.663397</td>\n",
       "      <td>1.094918</td>\n",
       "      <td>0.494768</td>\n",
       "      <td>0.505232</td>\n",
       "      <td>0.795217</td>\n",
       "      <td>0.204783</td>\n",
       "      <td>0.242152</td>\n",
       "      <td>0.242900</td>\n",
       "      <td>0.272048</td>\n",
       "      <td>0.242900</td>\n",
       "    </tr>\n",
       "    <tr>\n",
       "      <th>std</th>\n",
       "      <td>12110.011237</td>\n",
       "      <td>14.049960</td>\n",
       "      <td>6.098187</td>\n",
       "      <td>1.205493</td>\n",
       "      <td>0.500160</td>\n",
       "      <td>0.500160</td>\n",
       "      <td>0.403694</td>\n",
       "      <td>0.403694</td>\n",
       "      <td>0.428546</td>\n",
       "      <td>0.428995</td>\n",
       "      <td>0.445181</td>\n",
       "      <td>0.428995</td>\n",
       "    </tr>\n",
       "    <tr>\n",
       "      <th>min</th>\n",
       "      <td>1121.873900</td>\n",
       "      <td>18.000000</td>\n",
       "      <td>15.960000</td>\n",
       "      <td>0.000000</td>\n",
       "      <td>0.000000</td>\n",
       "      <td>0.000000</td>\n",
       "      <td>0.000000</td>\n",
       "      <td>0.000000</td>\n",
       "      <td>0.000000</td>\n",
       "      <td>0.000000</td>\n",
       "      <td>0.000000</td>\n",
       "      <td>0.000000</td>\n",
       "    </tr>\n",
       "    <tr>\n",
       "      <th>25%</th>\n",
       "      <td>4740.287150</td>\n",
       "      <td>27.000000</td>\n",
       "      <td>26.296250</td>\n",
       "      <td>0.000000</td>\n",
       "      <td>0.000000</td>\n",
       "      <td>0.000000</td>\n",
       "      <td>1.000000</td>\n",
       "      <td>0.000000</td>\n",
       "      <td>0.000000</td>\n",
       "      <td>0.000000</td>\n",
       "      <td>0.000000</td>\n",
       "      <td>0.000000</td>\n",
       "    </tr>\n",
       "    <tr>\n",
       "      <th>50%</th>\n",
       "      <td>9382.033000</td>\n",
       "      <td>39.000000</td>\n",
       "      <td>30.400000</td>\n",
       "      <td>1.000000</td>\n",
       "      <td>0.000000</td>\n",
       "      <td>1.000000</td>\n",
       "      <td>1.000000</td>\n",
       "      <td>0.000000</td>\n",
       "      <td>0.000000</td>\n",
       "      <td>0.000000</td>\n",
       "      <td>0.000000</td>\n",
       "      <td>0.000000</td>\n",
       "    </tr>\n",
       "    <tr>\n",
       "      <th>75%</th>\n",
       "      <td>16639.912515</td>\n",
       "      <td>51.000000</td>\n",
       "      <td>34.693750</td>\n",
       "      <td>2.000000</td>\n",
       "      <td>1.000000</td>\n",
       "      <td>1.000000</td>\n",
       "      <td>1.000000</td>\n",
       "      <td>0.000000</td>\n",
       "      <td>0.000000</td>\n",
       "      <td>0.000000</td>\n",
       "      <td>1.000000</td>\n",
       "      <td>0.000000</td>\n",
       "    </tr>\n",
       "    <tr>\n",
       "      <th>max</th>\n",
       "      <td>63770.428010</td>\n",
       "      <td>64.000000</td>\n",
       "      <td>53.130000</td>\n",
       "      <td>5.000000</td>\n",
       "      <td>1.000000</td>\n",
       "      <td>1.000000</td>\n",
       "      <td>1.000000</td>\n",
       "      <td>1.000000</td>\n",
       "      <td>1.000000</td>\n",
       "      <td>1.000000</td>\n",
       "      <td>1.000000</td>\n",
       "      <td>1.000000</td>\n",
       "    </tr>\n",
       "  </tbody>\n",
       "</table>\n",
       "</div>"
      ],
      "text/plain": [
       "            charges          age          bmi     children   sex_female  \\\n",
       "count   1338.000000  1338.000000  1338.000000  1338.000000  1338.000000   \n",
       "mean   13270.422265    39.207025    30.663397     1.094918     0.494768   \n",
       "std    12110.011237    14.049960     6.098187     1.205493     0.500160   \n",
       "min     1121.873900    18.000000    15.960000     0.000000     0.000000   \n",
       "25%     4740.287150    27.000000    26.296250     0.000000     0.000000   \n",
       "50%     9382.033000    39.000000    30.400000     1.000000     0.000000   \n",
       "75%    16639.912515    51.000000    34.693750     2.000000     1.000000   \n",
       "max    63770.428010    64.000000    53.130000     5.000000     1.000000   \n",
       "\n",
       "          sex_male    smoker_no   smoker_yes  region_northeast  \\\n",
       "count  1338.000000  1338.000000  1338.000000       1338.000000   \n",
       "mean      0.505232     0.795217     0.204783          0.242152   \n",
       "std       0.500160     0.403694     0.403694          0.428546   \n",
       "min       0.000000     0.000000     0.000000          0.000000   \n",
       "25%       0.000000     1.000000     0.000000          0.000000   \n",
       "50%       1.000000     1.000000     0.000000          0.000000   \n",
       "75%       1.000000     1.000000     0.000000          0.000000   \n",
       "max       1.000000     1.000000     1.000000          1.000000   \n",
       "\n",
       "       region_northwest  region_southeast  region_southwest  \n",
       "count       1338.000000       1338.000000       1338.000000  \n",
       "mean           0.242900          0.272048          0.242900  \n",
       "std            0.428995          0.445181          0.428995  \n",
       "min            0.000000          0.000000          0.000000  \n",
       "25%            0.000000          0.000000          0.000000  \n",
       "50%            0.000000          0.000000          0.000000  \n",
       "75%            0.000000          1.000000          0.000000  \n",
       "max            1.000000          1.000000          1.000000  "
      ]
     },
     "execution_count": 8,
     "metadata": {},
     "output_type": "execute_result"
    }
   ],
   "source": [
    "df2.describe()"
   ]
  },
  {
   "cell_type": "code",
   "execution_count": 9,
   "metadata": {},
   "outputs": [
    {
     "name": "stdout",
     "output_type": "stream",
     "text": [
      "Skewness: 1.515880\n",
      "Kurtosis: 1.606299\n"
     ]
    },
    {
     "data": {
      "image/png": "[encoded data removed]",
      "text/plain": [
       "<Figure size 360x360 with 1 Axes>"
      ]
     },
     "metadata": {
      "needs_background": "light"
     },
     "output_type": "display_data"
    }
   ],
   "source": [
    "\n",
    "ax = sns.displot((df2['charges']), kde = True)\n",
    "print(\"Skewness: %f\" % df2['charges'].skew())\n",
    "print(\"Kurtosis: %f\" % df2['charges'].kurt())"
   ]
  },
  {
   "cell_type": "code",
   "execution_count": 10,
   "metadata": {},
   "outputs": [
    {
     "name": "stdout",
     "output_type": "stream",
     "text": [
      "Skewness: 0.055673\n",
      "Kurtosis: -1.245088\n"
     ]
    },
    {
     "data": {
      "image/png": "[encoded data removed]",
      "text/plain": [
       "<Figure size 360x360 with 1 Axes>"
      ]
     },
     "metadata": {
      "needs_background": "light"
     },
     "output_type": "display_data"
    }
   ],
   "source": [
    "ax = sns.displot((df2['age']), kde = True)\n",
    "print(\"Skewness: %f\" % df2['age'].skew())\n",
    "print(\"Kurtosis: %f\" % df2['age'].kurt())"
   ]
  },
  {
   "cell_type": "code",
   "execution_count": 11,
   "metadata": {},
   "outputs": [
    {
     "data": {
      "text/plain": [
       "<seaborn.axisgrid.FacetGrid at 0x26084d02fd0>"
      ]
     },
     "execution_count": 11,
     "metadata": {},
     "output_type": "execute_result"
    },
    {
     "data": {
      "image/png": "[encoded data removed]",
      "text/plain": [
       "<Figure size 360x360 with 1 Axes>"
      ]
     },
     "metadata": {
      "needs_background": "light"
     },
     "output_type": "display_data"
    }
   ],
   "source": [
    "sns.catplot(x= 'region', kind=\"count\", palette=\"ch:.25\", data=df)\n"
   ]
  },
  {
   "cell_type": "code",
   "execution_count": 12,
   "metadata": {},
   "outputs": [
    {
     "data": {
      "text/plain": [
       "Text(0.5, 1.0, 'Cost for smoker/no smoker')"
      ]
     },
     "execution_count": 12,
     "metadata": {},
     "output_type": "execute_result"
    },
    {
     "data": {
      "image/png": "[encoded data removed]",
      "text/plain": [
       "<Figure size 432x288 with 1 Axes>"
      ]
     },
     "metadata": {
      "needs_background": "light"
     },
     "output_type": "display_data"
    }
   ],
   "source": [
    "ax = sns.boxplot(x='smoker',y='charges', data = df)\n",
    "plt.title('Cost for smoker/no smoker')"
   ]
  },
  {
   "cell_type": "markdown",
   "metadata": {},
   "source": [
    "As we can infer without even looking at the data, the cost for smokers is higher."
   ]
  },
  {
   "cell_type": "markdown",
   "metadata": {},
   "source": [
    "### Feature Creation"
   ]
  },
  {
   "cell_type": "code",
   "execution_count": 13,
   "metadata": {},
   "outputs": [],
   "source": [
    "df2['overweight'] = (df2.bmi >= 30).astype(int)\n",
    "df2['unhealthy'] = df2.smoker_yes * df2.overweight\n"
   ]
  },
  {
   "cell_type": "markdown",
   "metadata": {},
   "source": [
    "We created these 2 features as we think they could have good predicting power."
   ]
  },
  {
   "cell_type": "code",
   "execution_count": 14,
   "metadata": {},
   "outputs": [
    {
     "data": {
      "image/png": "[encoded data removed]",
      "text/plain": [
       "<Figure size 1440x360 with 2 Axes>"
      ]
     },
     "metadata": {
      "needs_background": "light"
     },
     "output_type": "display_data"
    }
   ],
   "source": [
    "#dfeda = pd.read_csv('insurance.csv')\n",
    "\n",
    "plt.rcParams['figure.figsize'] = (20, 5)\n",
    "sns.heatmap(df2.corr(), cmap = 'coolwarm', annot = True)\n",
    "\n",
    "plt.show()"
   ]
  },
  {
   "cell_type": "markdown",
   "metadata": {},
   "source": [
    "As we can see, we dont have that much of strong correlations besides the smoker variable. Therefore, the model with the best performance will be a more complex one than a Ordinary Least Squares (OLS) regression."
   ]
  },
  {
   "cell_type": "code",
   "execution_count": 15,
   "metadata": {},
   "outputs": [
    {
     "data": {
      "text/plain": [
       "Index(['charges', 'age', 'bmi', 'children', 'sex_female', 'sex_male',\n",
       "       'smoker_no', 'smoker_yes', 'region_northeast', 'region_northwest',\n",
       "       'region_southeast', 'region_southwest', 'overweight', 'unhealthy'],\n",
       "      dtype='object')"
      ]
     },
     "execution_count": 15,
     "metadata": {},
     "output_type": "execute_result"
    }
   ],
   "source": [
    "df2.columns"
   ]
  },
  {
   "cell_type": "code",
   "execution_count": 16,
   "metadata": {},
   "outputs": [],
   "source": [
    "x = df2[['age', 'bmi', 'children', 'sex_female', 'sex_male',\n",
    "       'smoker_no', 'smoker_yes', 'region_northeast', 'region_northwest',\n",
    "       'region_southeast', 'region_southwest', 'overweight', 'unhealthy']]\n",
    "y = df2[['charges']]\n"
   ]
  },
  {
   "cell_type": "code",
   "execution_count": 17,
   "metadata": {},
   "outputs": [],
   "source": [
    "from sklearn.model_selection import train_test_split\n",
    "x_train, x_test, y_train, y_test = train_test_split(x, y, test_size = 0.2, random_state = 0)"
   ]
  },
  {
   "cell_type": "markdown",
   "metadata": {},
   "source": [
    "## Recursive Feature Elimination"
   ]
  },
  {
   "cell_type": "code",
   "execution_count": 18,
   "metadata": {},
   "outputs": [
    {
     "name": "stdout",
     "output_type": "stream",
     "text": [
      "[ True False  True  True  True  True  True  True  True False  True  True\n",
      "  True]\n",
      "Index(['age', 'children', 'sex_female', 'sex_male', 'smoker_no', 'smoker_yes',\n",
      "       'region_northeast', 'region_northwest', 'region_southwest',\n",
      "       'overweight', 'unhealthy'],\n",
      "      dtype='object')\n"
     ]
    }
   ],
   "source": [
    "from sklearn import linear_model\n",
    "from sklearn.linear_model import LinearRegression\n",
    "from sklearn.feature_selection import RFE\n",
    "\n",
    "lr = LinearRegression()\n",
    "\n",
    "rfe = RFE(estimator=lr, n_features_to_select = 11, step= 1)\n",
    "rfe = rfe.fit(x_train, y_train)\n",
    "print(rfe.support_)\n",
    "\n",
    "print(df2.columns[1:][rfe.support_])\n",
    "\n"
   ]
  },
  {
   "cell_type": "markdown",
   "metadata": {},
   "source": [
    "We did Recursive Feature Elimination in order to select which variables are we going to use in the model. "
   ]
  },
  {
   "cell_type": "markdown",
   "metadata": {},
   "source": [
    "### Outlier detection"
   ]
  },
  {
   "cell_type": "code",
   "execution_count": 19,
   "metadata": {},
   "outputs": [
    {
     "data": {
      "text/plain": [
       "48537.480726"
      ]
     },
     "execution_count": 19,
     "metadata": {},
     "output_type": "execute_result"
    }
   ],
   "source": [
    "max_threshold = df2['charges'].quantile(0.99)\n",
    "max_threshold"
   ]
  },
  {
   "cell_type": "markdown",
   "metadata": {},
   "source": [
    "We defined our max threshold as the percentile 99 of the charges."
   ]
  },
  {
   "cell_type": "code",
   "execution_count": 20,
   "metadata": {},
   "outputs": [
    {
     "data": {
      "text/html": [
       "<div>\n",
       "<style scoped>\n",
       "    .dataframe tbody tr th:only-of-type {\n",
       "        vertical-align: middle;\n",
       "    }\n",
       "\n",
       "    .dataframe tbody tr th {\n",
       "        vertical-align: top;\n",
       "    }\n",
       "\n",
       "    .dataframe thead th {\n",
       "        text-align: right;\n",
       "    }\n",
       "</style>\n",
       "<table border=\"1\" class=\"dataframe\">\n",
       "  <thead>\n",
       "    <tr style=\"text-align: right;\">\n",
       "      <th></th>\n",
       "      <th>charges</th>\n",
       "      <th>age</th>\n",
       "      <th>bmi</th>\n",
       "      <th>children</th>\n",
       "      <th>sex_female</th>\n",
       "      <th>sex_male</th>\n",
       "      <th>smoker_no</th>\n",
       "      <th>smoker_yes</th>\n",
       "      <th>region_northeast</th>\n",
       "      <th>region_northwest</th>\n",
       "      <th>region_southeast</th>\n",
       "      <th>region_southwest</th>\n",
       "      <th>overweight</th>\n",
       "      <th>unhealthy</th>\n",
       "    </tr>\n",
       "  </thead>\n",
       "  <tbody>\n",
       "    <tr>\n",
       "      <th>34</th>\n",
       "      <td>51194.55914</td>\n",
       "      <td>28</td>\n",
       "      <td>36.400</td>\n",
       "      <td>1</td>\n",
       "      <td>0</td>\n",
       "      <td>1</td>\n",
       "      <td>0</td>\n",
       "      <td>1</td>\n",
       "      <td>0</td>\n",
       "      <td>0</td>\n",
       "      <td>0</td>\n",
       "      <td>1</td>\n",
       "      <td>1</td>\n",
       "      <td>1</td>\n",
       "    </tr>\n",
       "    <tr>\n",
       "      <th>175</th>\n",
       "      <td>48824.45000</td>\n",
       "      <td>63</td>\n",
       "      <td>37.700</td>\n",
       "      <td>0</td>\n",
       "      <td>1</td>\n",
       "      <td>0</td>\n",
       "      <td>0</td>\n",
       "      <td>1</td>\n",
       "      <td>0</td>\n",
       "      <td>0</td>\n",
       "      <td>0</td>\n",
       "      <td>1</td>\n",
       "      <td>1</td>\n",
       "      <td>1</td>\n",
       "    </tr>\n",
       "    <tr>\n",
       "      <th>281</th>\n",
       "      <td>48549.17835</td>\n",
       "      <td>54</td>\n",
       "      <td>40.565</td>\n",
       "      <td>3</td>\n",
       "      <td>0</td>\n",
       "      <td>1</td>\n",
       "      <td>0</td>\n",
       "      <td>1</td>\n",
       "      <td>1</td>\n",
       "      <td>0</td>\n",
       "      <td>0</td>\n",
       "      <td>0</td>\n",
       "      <td>1</td>\n",
       "      <td>1</td>\n",
       "    </tr>\n",
       "    <tr>\n",
       "      <th>488</th>\n",
       "      <td>48885.13561</td>\n",
       "      <td>44</td>\n",
       "      <td>38.060</td>\n",
       "      <td>0</td>\n",
       "      <td>1</td>\n",
       "      <td>0</td>\n",
       "      <td>0</td>\n",
       "      <td>1</td>\n",
       "      <td>0</td>\n",
       "      <td>0</td>\n",
       "      <td>1</td>\n",
       "      <td>0</td>\n",
       "      <td>1</td>\n",
       "      <td>1</td>\n",
       "    </tr>\n",
       "    <tr>\n",
       "      <th>530</th>\n",
       "      <td>48675.51770</td>\n",
       "      <td>57</td>\n",
       "      <td>42.130</td>\n",
       "      <td>1</td>\n",
       "      <td>0</td>\n",
       "      <td>1</td>\n",
       "      <td>0</td>\n",
       "      <td>1</td>\n",
       "      <td>0</td>\n",
       "      <td>0</td>\n",
       "      <td>1</td>\n",
       "      <td>0</td>\n",
       "      <td>1</td>\n",
       "      <td>1</td>\n",
       "    </tr>\n",
       "    <tr>\n",
       "      <th>543</th>\n",
       "      <td>63770.42801</td>\n",
       "      <td>54</td>\n",
       "      <td>47.410</td>\n",
       "      <td>0</td>\n",
       "      <td>1</td>\n",
       "      <td>0</td>\n",
       "      <td>0</td>\n",
       "      <td>1</td>\n",
       "      <td>0</td>\n",
       "      <td>0</td>\n",
       "      <td>1</td>\n",
       "      <td>0</td>\n",
       "      <td>1</td>\n",
       "      <td>1</td>\n",
       "    </tr>\n",
       "    <tr>\n",
       "      <th>577</th>\n",
       "      <td>58571.07448</td>\n",
       "      <td>31</td>\n",
       "      <td>38.095</td>\n",
       "      <td>1</td>\n",
       "      <td>1</td>\n",
       "      <td>0</td>\n",
       "      <td>0</td>\n",
       "      <td>1</td>\n",
       "      <td>1</td>\n",
       "      <td>0</td>\n",
       "      <td>0</td>\n",
       "      <td>0</td>\n",
       "      <td>1</td>\n",
       "      <td>1</td>\n",
       "    </tr>\n",
       "    <tr>\n",
       "      <th>819</th>\n",
       "      <td>55135.40209</td>\n",
       "      <td>33</td>\n",
       "      <td>35.530</td>\n",
       "      <td>0</td>\n",
       "      <td>1</td>\n",
       "      <td>0</td>\n",
       "      <td>0</td>\n",
       "      <td>1</td>\n",
       "      <td>0</td>\n",
       "      <td>1</td>\n",
       "      <td>0</td>\n",
       "      <td>0</td>\n",
       "      <td>1</td>\n",
       "      <td>1</td>\n",
       "    </tr>\n",
       "    <tr>\n",
       "      <th>901</th>\n",
       "      <td>48673.55880</td>\n",
       "      <td>60</td>\n",
       "      <td>40.920</td>\n",
       "      <td>0</td>\n",
       "      <td>0</td>\n",
       "      <td>1</td>\n",
       "      <td>0</td>\n",
       "      <td>1</td>\n",
       "      <td>0</td>\n",
       "      <td>0</td>\n",
       "      <td>1</td>\n",
       "      <td>0</td>\n",
       "      <td>1</td>\n",
       "      <td>1</td>\n",
       "    </tr>\n",
       "    <tr>\n",
       "      <th>1062</th>\n",
       "      <td>48970.24760</td>\n",
       "      <td>59</td>\n",
       "      <td>41.140</td>\n",
       "      <td>1</td>\n",
       "      <td>0</td>\n",
       "      <td>1</td>\n",
       "      <td>0</td>\n",
       "      <td>1</td>\n",
       "      <td>0</td>\n",
       "      <td>0</td>\n",
       "      <td>1</td>\n",
       "      <td>0</td>\n",
       "      <td>1</td>\n",
       "      <td>1</td>\n",
       "    </tr>\n",
       "    <tr>\n",
       "      <th>1146</th>\n",
       "      <td>52590.82939</td>\n",
       "      <td>60</td>\n",
       "      <td>32.800</td>\n",
       "      <td>0</td>\n",
       "      <td>0</td>\n",
       "      <td>1</td>\n",
       "      <td>0</td>\n",
       "      <td>1</td>\n",
       "      <td>0</td>\n",
       "      <td>0</td>\n",
       "      <td>0</td>\n",
       "      <td>1</td>\n",
       "      <td>1</td>\n",
       "      <td>1</td>\n",
       "    </tr>\n",
       "    <tr>\n",
       "      <th>1230</th>\n",
       "      <td>60021.39897</td>\n",
       "      <td>52</td>\n",
       "      <td>34.485</td>\n",
       "      <td>3</td>\n",
       "      <td>0</td>\n",
       "      <td>1</td>\n",
       "      <td>0</td>\n",
       "      <td>1</td>\n",
       "      <td>0</td>\n",
       "      <td>1</td>\n",
       "      <td>0</td>\n",
       "      <td>0</td>\n",
       "      <td>1</td>\n",
       "      <td>1</td>\n",
       "    </tr>\n",
       "    <tr>\n",
       "      <th>1241</th>\n",
       "      <td>49577.66240</td>\n",
       "      <td>64</td>\n",
       "      <td>36.960</td>\n",
       "      <td>2</td>\n",
       "      <td>0</td>\n",
       "      <td>1</td>\n",
       "      <td>0</td>\n",
       "      <td>1</td>\n",
       "      <td>0</td>\n",
       "      <td>0</td>\n",
       "      <td>1</td>\n",
       "      <td>0</td>\n",
       "      <td>1</td>\n",
       "      <td>1</td>\n",
       "    </tr>\n",
       "    <tr>\n",
       "      <th>1300</th>\n",
       "      <td>62592.87309</td>\n",
       "      <td>45</td>\n",
       "      <td>30.360</td>\n",
       "      <td>0</td>\n",
       "      <td>0</td>\n",
       "      <td>1</td>\n",
       "      <td>0</td>\n",
       "      <td>1</td>\n",
       "      <td>0</td>\n",
       "      <td>0</td>\n",
       "      <td>1</td>\n",
       "      <td>0</td>\n",
       "      <td>1</td>\n",
       "      <td>1</td>\n",
       "    </tr>\n",
       "  </tbody>\n",
       "</table>\n",
       "</div>"
      ],
      "text/plain": [
       "          charges  age     bmi  children  sex_female  sex_male  smoker_no  \\\n",
       "34    51194.55914   28  36.400         1           0         1          0   \n",
       "175   48824.45000   63  37.700         0           1         0          0   \n",
       "281   48549.17835   54  40.565         3           0         1          0   \n",
       "488   48885.13561   44  38.060         0           1         0          0   \n",
       "530   48675.51770   57  42.130         1           0         1          0   \n",
       "543   63770.42801   54  47.410         0           1         0          0   \n",
       "577   58571.07448   31  38.095         1           1         0          0   \n",
       "819   55135.40209   33  35.530         0           1         0          0   \n",
       "901   48673.55880   60  40.920         0           0         1          0   \n",
       "1062  48970.24760   59  41.140         1           0         1          0   \n",
       "1146  52590.82939   60  32.800         0           0         1          0   \n",
       "1230  60021.39897   52  34.485         3           0         1          0   \n",
       "1241  49577.66240   64  36.960         2           0         1          0   \n",
       "1300  62592.87309   45  30.360         0           0         1          0   \n",
       "\n",
       "      smoker_yes  region_northeast  region_northwest  region_southeast  \\\n",
       "34             1                 0                 0                 0   \n",
       "175            1                 0                 0                 0   \n",
       "281            1                 1                 0                 0   \n",
       "488            1                 0                 0                 1   \n",
       "530            1                 0                 0                 1   \n",
       "543            1                 0                 0                 1   \n",
       "577            1                 1                 0                 0   \n",
       "819            1                 0                 1                 0   \n",
       "901            1                 0                 0                 1   \n",
       "1062           1                 0                 0                 1   \n",
       "1146           1                 0                 0                 0   \n",
       "1230           1                 0                 1                 0   \n",
       "1241           1                 0                 0                 1   \n",
       "1300           1                 0                 0                 1   \n",
       "\n",
       "      region_southwest  overweight  unhealthy  \n",
       "34                   1           1          1  \n",
       "175                  1           1          1  \n",
       "281                  0           1          1  \n",
       "488                  0           1          1  \n",
       "530                  0           1          1  \n",
       "543                  0           1          1  \n",
       "577                  0           1          1  \n",
       "819                  0           1          1  \n",
       "901                  0           1          1  \n",
       "1062                 0           1          1  \n",
       "1146                 1           1          1  \n",
       "1230                 0           1          1  \n",
       "1241                 0           1          1  \n",
       "1300                 0           1          1  "
      ]
     },
     "execution_count": 20,
     "metadata": {},
     "output_type": "execute_result"
    }
   ],
   "source": [
    "df2[df2['charges']>max_threshold]"
   ]
  },
  {
   "cell_type": "markdown",
   "metadata": {},
   "source": [
    "As we can see, the \"outliers\" from max_threshold are that much of an outliers. We dont see any probable typo and the charges are reasonable so no need for us to get rid of them."
   ]
  },
  {
   "cell_type": "code",
   "execution_count": 21,
   "metadata": {},
   "outputs": [
    {
     "data": {
      "text/plain": [
       "1252.97273"
      ]
     },
     "execution_count": 21,
     "metadata": {},
     "output_type": "execute_result"
    }
   ],
   "source": [
    "min_threshold = df2['charges'].quantile(0.01)\n",
    "min_threshold"
   ]
  },
  {
   "cell_type": "markdown",
   "metadata": {},
   "source": [
    "We defined our minimum threshold for charges as percentile 1."
   ]
  },
  {
   "cell_type": "code",
   "execution_count": 22,
   "metadata": {},
   "outputs": [
    {
     "data": {
      "text/html": [
       "<div>\n",
       "<style scoped>\n",
       "    .dataframe tbody tr th:only-of-type {\n",
       "        vertical-align: middle;\n",
       "    }\n",
       "\n",
       "    .dataframe tbody tr th {\n",
       "        vertical-align: top;\n",
       "    }\n",
       "\n",
       "    .dataframe thead th {\n",
       "        text-align: right;\n",
       "    }\n",
       "</style>\n",
       "<table border=\"1\" class=\"dataframe\">\n",
       "  <thead>\n",
       "    <tr style=\"text-align: right;\">\n",
       "      <th></th>\n",
       "      <th>charges</th>\n",
       "      <th>age</th>\n",
       "      <th>bmi</th>\n",
       "      <th>children</th>\n",
       "      <th>sex_female</th>\n",
       "      <th>sex_male</th>\n",
       "      <th>smoker_no</th>\n",
       "      <th>smoker_yes</th>\n",
       "      <th>region_northeast</th>\n",
       "      <th>region_northwest</th>\n",
       "      <th>region_southeast</th>\n",
       "      <th>region_southwest</th>\n",
       "      <th>overweight</th>\n",
       "      <th>unhealthy</th>\n",
       "    </tr>\n",
       "  </thead>\n",
       "  <tbody>\n",
       "    <tr>\n",
       "      <th>22</th>\n",
       "      <td>1137.0110</td>\n",
       "      <td>18</td>\n",
       "      <td>34.10</td>\n",
       "      <td>0</td>\n",
       "      <td>0</td>\n",
       "      <td>1</td>\n",
       "      <td>1</td>\n",
       "      <td>0</td>\n",
       "      <td>0</td>\n",
       "      <td>0</td>\n",
       "      <td>1</td>\n",
       "      <td>0</td>\n",
       "      <td>1</td>\n",
       "      <td>0</td>\n",
       "    </tr>\n",
       "    <tr>\n",
       "      <th>194</th>\n",
       "      <td>1137.4697</td>\n",
       "      <td>18</td>\n",
       "      <td>34.43</td>\n",
       "      <td>0</td>\n",
       "      <td>0</td>\n",
       "      <td>1</td>\n",
       "      <td>1</td>\n",
       "      <td>0</td>\n",
       "      <td>0</td>\n",
       "      <td>0</td>\n",
       "      <td>1</td>\n",
       "      <td>0</td>\n",
       "      <td>1</td>\n",
       "      <td>0</td>\n",
       "    </tr>\n",
       "    <tr>\n",
       "      <th>442</th>\n",
       "      <td>1149.3959</td>\n",
       "      <td>18</td>\n",
       "      <td>43.01</td>\n",
       "      <td>0</td>\n",
       "      <td>0</td>\n",
       "      <td>1</td>\n",
       "      <td>1</td>\n",
       "      <td>0</td>\n",
       "      <td>0</td>\n",
       "      <td>0</td>\n",
       "      <td>1</td>\n",
       "      <td>0</td>\n",
       "      <td>1</td>\n",
       "      <td>0</td>\n",
       "    </tr>\n",
       "    <tr>\n",
       "      <th>584</th>\n",
       "      <td>1242.8160</td>\n",
       "      <td>19</td>\n",
       "      <td>20.70</td>\n",
       "      <td>0</td>\n",
       "      <td>0</td>\n",
       "      <td>1</td>\n",
       "      <td>1</td>\n",
       "      <td>0</td>\n",
       "      <td>0</td>\n",
       "      <td>0</td>\n",
       "      <td>0</td>\n",
       "      <td>1</td>\n",
       "      <td>0</td>\n",
       "      <td>0</td>\n",
       "    </tr>\n",
       "    <tr>\n",
       "      <th>663</th>\n",
       "      <td>1136.3994</td>\n",
       "      <td>18</td>\n",
       "      <td>33.66</td>\n",
       "      <td>0</td>\n",
       "      <td>0</td>\n",
       "      <td>1</td>\n",
       "      <td>1</td>\n",
       "      <td>0</td>\n",
       "      <td>0</td>\n",
       "      <td>0</td>\n",
       "      <td>1</td>\n",
       "      <td>0</td>\n",
       "      <td>1</td>\n",
       "      <td>0</td>\n",
       "    </tr>\n",
       "    <tr>\n",
       "      <th>681</th>\n",
       "      <td>1242.2600</td>\n",
       "      <td>19</td>\n",
       "      <td>20.30</td>\n",
       "      <td>0</td>\n",
       "      <td>0</td>\n",
       "      <td>1</td>\n",
       "      <td>1</td>\n",
       "      <td>0</td>\n",
       "      <td>0</td>\n",
       "      <td>0</td>\n",
       "      <td>0</td>\n",
       "      <td>1</td>\n",
       "      <td>0</td>\n",
       "      <td>0</td>\n",
       "    </tr>\n",
       "    <tr>\n",
       "      <th>781</th>\n",
       "      <td>1146.7966</td>\n",
       "      <td>18</td>\n",
       "      <td>41.14</td>\n",
       "      <td>0</td>\n",
       "      <td>0</td>\n",
       "      <td>1</td>\n",
       "      <td>1</td>\n",
       "      <td>0</td>\n",
       "      <td>0</td>\n",
       "      <td>0</td>\n",
       "      <td>1</td>\n",
       "      <td>0</td>\n",
       "      <td>1</td>\n",
       "      <td>0</td>\n",
       "    </tr>\n",
       "    <tr>\n",
       "      <th>791</th>\n",
       "      <td>1252.4070</td>\n",
       "      <td>19</td>\n",
       "      <td>27.60</td>\n",
       "      <td>0</td>\n",
       "      <td>0</td>\n",
       "      <td>1</td>\n",
       "      <td>1</td>\n",
       "      <td>0</td>\n",
       "      <td>0</td>\n",
       "      <td>0</td>\n",
       "      <td>0</td>\n",
       "      <td>1</td>\n",
       "      <td>0</td>\n",
       "      <td>0</td>\n",
       "    </tr>\n",
       "    <tr>\n",
       "      <th>808</th>\n",
       "      <td>1131.5066</td>\n",
       "      <td>18</td>\n",
       "      <td>30.14</td>\n",
       "      <td>0</td>\n",
       "      <td>0</td>\n",
       "      <td>1</td>\n",
       "      <td>1</td>\n",
       "      <td>0</td>\n",
       "      <td>0</td>\n",
       "      <td>0</td>\n",
       "      <td>1</td>\n",
       "      <td>0</td>\n",
       "      <td>1</td>\n",
       "      <td>0</td>\n",
       "    </tr>\n",
       "    <tr>\n",
       "      <th>866</th>\n",
       "      <td>1141.4451</td>\n",
       "      <td>18</td>\n",
       "      <td>37.29</td>\n",
       "      <td>0</td>\n",
       "      <td>0</td>\n",
       "      <td>1</td>\n",
       "      <td>1</td>\n",
       "      <td>0</td>\n",
       "      <td>0</td>\n",
       "      <td>0</td>\n",
       "      <td>1</td>\n",
       "      <td>0</td>\n",
       "      <td>1</td>\n",
       "      <td>0</td>\n",
       "    </tr>\n",
       "    <tr>\n",
       "      <th>940</th>\n",
       "      <td>1121.8739</td>\n",
       "      <td>18</td>\n",
       "      <td>23.21</td>\n",
       "      <td>0</td>\n",
       "      <td>0</td>\n",
       "      <td>1</td>\n",
       "      <td>1</td>\n",
       "      <td>0</td>\n",
       "      <td>0</td>\n",
       "      <td>0</td>\n",
       "      <td>1</td>\n",
       "      <td>0</td>\n",
       "      <td>0</td>\n",
       "      <td>0</td>\n",
       "    </tr>\n",
       "    <tr>\n",
       "      <th>1244</th>\n",
       "      <td>1135.9407</td>\n",
       "      <td>18</td>\n",
       "      <td>33.33</td>\n",
       "      <td>0</td>\n",
       "      <td>0</td>\n",
       "      <td>1</td>\n",
       "      <td>1</td>\n",
       "      <td>0</td>\n",
       "      <td>0</td>\n",
       "      <td>0</td>\n",
       "      <td>1</td>\n",
       "      <td>0</td>\n",
       "      <td>1</td>\n",
       "      <td>0</td>\n",
       "    </tr>\n",
       "    <tr>\n",
       "      <th>1251</th>\n",
       "      <td>1241.5650</td>\n",
       "      <td>19</td>\n",
       "      <td>19.80</td>\n",
       "      <td>0</td>\n",
       "      <td>0</td>\n",
       "      <td>1</td>\n",
       "      <td>1</td>\n",
       "      <td>0</td>\n",
       "      <td>0</td>\n",
       "      <td>0</td>\n",
       "      <td>0</td>\n",
       "      <td>1</td>\n",
       "      <td>0</td>\n",
       "      <td>0</td>\n",
       "    </tr>\n",
       "    <tr>\n",
       "      <th>1317</th>\n",
       "      <td>1163.4627</td>\n",
       "      <td>18</td>\n",
       "      <td>53.13</td>\n",
       "      <td>0</td>\n",
       "      <td>0</td>\n",
       "      <td>1</td>\n",
       "      <td>1</td>\n",
       "      <td>0</td>\n",
       "      <td>0</td>\n",
       "      <td>0</td>\n",
       "      <td>1</td>\n",
       "      <td>0</td>\n",
       "      <td>1</td>\n",
       "      <td>0</td>\n",
       "    </tr>\n",
       "  </tbody>\n",
       "</table>\n",
       "</div>"
      ],
      "text/plain": [
       "        charges  age    bmi  children  sex_female  sex_male  smoker_no  \\\n",
       "22    1137.0110   18  34.10         0           0         1          1   \n",
       "194   1137.4697   18  34.43         0           0         1          1   \n",
       "442   1149.3959   18  43.01         0           0         1          1   \n",
       "584   1242.8160   19  20.70         0           0         1          1   \n",
       "663   1136.3994   18  33.66         0           0         1          1   \n",
       "681   1242.2600   19  20.30         0           0         1          1   \n",
       "781   1146.7966   18  41.14         0           0         1          1   \n",
       "791   1252.4070   19  27.60         0           0         1          1   \n",
       "808   1131.5066   18  30.14         0           0         1          1   \n",
       "866   1141.4451   18  37.29         0           0         1          1   \n",
       "940   1121.8739   18  23.21         0           0         1          1   \n",
       "1244  1135.9407   18  33.33         0           0         1          1   \n",
       "1251  1241.5650   19  19.80         0           0         1          1   \n",
       "1317  1163.4627   18  53.13         0           0         1          1   \n",
       "\n",
       "      smoker_yes  region_northeast  region_northwest  region_southeast  \\\n",
       "22             0                 0                 0                 1   \n",
       "194            0                 0                 0                 1   \n",
       "442            0                 0                 0                 1   \n",
       "584            0                 0                 0                 0   \n",
       "663            0                 0                 0                 1   \n",
       "681            0                 0                 0                 0   \n",
       "781            0                 0                 0                 1   \n",
       "791            0                 0                 0                 0   \n",
       "808            0                 0                 0                 1   \n",
       "866            0                 0                 0                 1   \n",
       "940            0                 0                 0                 1   \n",
       "1244           0                 0                 0                 1   \n",
       "1251           0                 0                 0                 0   \n",
       "1317           0                 0                 0                 1   \n",
       "\n",
       "      region_southwest  overweight  unhealthy  \n",
       "22                   0           1          0  \n",
       "194                  0           1          0  \n",
       "442                  0           1          0  \n",
       "584                  1           0          0  \n",
       "663                  0           1          0  \n",
       "681                  1           0          0  \n",
       "781                  0           1          0  \n",
       "791                  1           0          0  \n",
       "808                  0           1          0  \n",
       "866                  0           1          0  \n",
       "940                  0           0          0  \n",
       "1244                 0           1          0  \n",
       "1251                 1           0          0  \n",
       "1317                 0           1          0  "
      ]
     },
     "execution_count": 22,
     "metadata": {},
     "output_type": "execute_result"
    }
   ],
   "source": [
    "df2[df2['charges']<min_threshold]"
   ]
  },
  {
   "cell_type": "markdown",
   "metadata": {},
   "source": [
    "We can see that same pattern as max threshold occurs with the minimum. There isn't a probable typo and charges look reasonable, so again, no need to get rid of them."
   ]
  },
  {
   "cell_type": "code",
   "execution_count": 23,
   "metadata": {},
   "outputs": [],
   "source": [
    "x = df2[['age', 'children', 'smoker_yes',\n",
    "       'region_northeast', 'region_northwest', 'region_southwest',\n",
    "       'overweight', 'unhealthy']]\n",
    "y = df2[['charges']]"
   ]
  },
  {
   "cell_type": "code",
   "execution_count": 24,
   "metadata": {},
   "outputs": [
    {
     "name": "stdout",
     "output_type": "stream",
     "text": [
      "            feature       VIF\n",
      "0               age  4.439841\n",
      "1          children  1.761728\n",
      "2        smoker_yes  2.550559\n",
      "3  region_northeast  1.636902\n",
      "4  region_northwest  1.646489\n",
      "5  region_southwest  1.644448\n",
      "6        overweight  2.466806\n",
      "7         unhealthy  2.631851\n"
     ]
    }
   ],
   "source": [
    "from statsmodels.stats.outliers_influence import variance_inflation_factor\n",
    "vif_data = pd.DataFrame()\n",
    "vif_data[\"feature\"] = x.columns\n",
    "  \n",
    "# calculating VIF for each feature\n",
    "vif_data[\"VIF\"] = [variance_inflation_factor(x.values, i)\n",
    "                          for i in range(len(x.columns))]\n",
    "  \n",
    "print(vif_data)"
   ]
  },
  {
   "cell_type": "markdown",
   "metadata": {},
   "source": [
    "We ran this process in order to visualize the multicollinearity of our features, and we can say that we have moderate multicollinearity but nothing to worry about."
   ]
  },
  {
   "cell_type": "code",
   "execution_count": 25,
   "metadata": {},
   "outputs": [],
   "source": [
    "from sklearn.model_selection import train_test_split\n",
    "x_train, x_test, y_train, y_test = train_test_split(x, y, test_size = 0.2, random_state = 500)"
   ]
  },
  {
   "cell_type": "code",
   "execution_count": 26,
   "metadata": {},
   "outputs": [],
   "source": [
    "from sklearn.preprocessing import StandardScaler\n",
    "sc = StandardScaler()\n",
    "x_train = sc.fit_transform(x_train)\n",
    "x_test = sc.transform(x_test)"
   ]
  },
  {
   "cell_type": "markdown",
   "metadata": {},
   "source": [
    "## Modeling"
   ]
  },
  {
   "cell_type": "markdown",
   "metadata": {},
   "source": [
    "Since we want to predict the cost of the insurance we need a regression model in order to resolve this type of project. The models that we are going to use are the following: \n",
    "- Ordinary Least Square (OLS) regression.\n",
    "- Lasso regression.\n",
    "- Ridge regression.\n",
    "- Elastic Net regression.\n",
    "- Random Forest regression.\n",
    "- Gradient Boosting regression.\n",
    "- xGBoost regression.\n",
    "- Polynomial regression.\n",
    "\n",
    "For all models except for OLS we are doing an hyperparameter tuning in order to improve the performance of the models via [cross-validated grid search.](https://scikit-learn.org/stable/modules/generated/sklearn.model_selection.GridSearchCV.html)"
   ]
  },
  {
   "cell_type": "markdown",
   "metadata": {},
   "source": [
    "### Ordinary Least Square (OLS) regression"
   ]
  },
  {
   "cell_type": "code",
   "execution_count": 27,
   "metadata": {
    "scrolled": false
   },
   "outputs": [
    {
     "data": {
      "text/plain": [
       "0.84733"
      ]
     },
     "execution_count": 27,
     "metadata": {},
     "output_type": "execute_result"
    }
   ],
   "source": [
    "from sklearn import metrics\n",
    "from sklearn.model_selection import cross_val_score\n",
    "\n",
    "ols = linear_model.LinearRegression()\n",
    "ols.fit(x_train,y_train)\n",
    "ols_yhat = ols.predict(x_test)\n",
    "\n",
    "np.round(np.mean(cross_val_score(ols, x_train, y_train, cv = 5, scoring = \"r2\")), 5)                    \n"
   ]
  },
  {
   "cell_type": "markdown",
   "metadata": {},
   "source": [
    "### Lasso regression"
   ]
  },
  {
   "cell_type": "code",
   "execution_count": 28,
   "metadata": {},
   "outputs": [
    {
     "name": "stdout",
     "output_type": "stream",
     "text": [
      "Lasso regression score:  0.84733\n"
     ]
    }
   ],
   "source": [
    "model = linear_model.Lasso()\n",
    "print(\"Lasso regression score: \", np.round(np.mean(cross_val_score(model, x_train, y_train, cv = 5, scoring = \"r2\")), 5))      \n"
   ]
  },
  {
   "cell_type": "markdown",
   "metadata": {},
   "source": [
    "#### Lasso hyperparameter tuning"
   ]
  },
  {
   "cell_type": "code",
   "execution_count": 29,
   "metadata": {},
   "outputs": [
    {
     "name": "stdout",
     "output_type": "stream",
     "text": [
      "Lasso regression best alpha value:  1\n",
      "Lasso regression with hyperparameter tuning best score:  0.84734\n",
      "Lasso regression improvement after hyperparameter tuning: 0.0%\n"
     ]
    }
   ],
   "source": [
    "from sklearn.model_selection import GridSearchCV\n",
    "\n",
    "alphas = [0.01, 0.1,0.5,0.75,1]\n",
    "model = linear_model.Lasso(normalize=True, tol=1e-2)\n",
    "grid_lasso = GridSearchCV(estimator=model, param_grid=dict(alpha=alphas), cv=5)\n",
    "grid_lasso.fit(x_train, y_train)\n",
    "print(\"Lasso regression best alpha value: \", grid_lasso.best_estimator_.alpha)\n",
    "print(\"Lasso regression with hyperparameter tuning best score: \", np.round(grid_lasso.best_score_, 5))\n",
    "print(\"Lasso regression improvement after hyperparameter tuning: {0}%\".format(np.round((1 - ((np.round(np.mean(cross_val_score(model, x_train, y_train, cv = 5, scoring = \"r2\")), 5)) \n",
    "                                                                                             / np.round(grid_lasso.best_score_, 5))) * 100, 5)))\n",
    "\n"
   ]
  },
  {
   "cell_type": "markdown",
   "metadata": {},
   "source": [
    "### Ridge regression"
   ]
  },
  {
   "cell_type": "code",
   "execution_count": 30,
   "metadata": {},
   "outputs": [
    {
     "name": "stdout",
     "output_type": "stream",
     "text": [
      "Ridge regression score:  0.84734\n"
     ]
    }
   ],
   "source": [
    "model = linear_model.Ridge()\n",
    "print(\"Ridge regression score: \", np.round(np.mean(cross_val_score(model, x_train, y_train, cv = 5, scoring = \"r2\")), 5))      \n",
    "      \n"
   ]
  },
  {
   "cell_type": "markdown",
   "metadata": {},
   "source": [
    "#### Ridge hyperparameter tuning"
   ]
  },
  {
   "cell_type": "code",
   "execution_count": 31,
   "metadata": {},
   "outputs": [
    {
     "name": "stdout",
     "output_type": "stream",
     "text": [
      "Ridge regression best alpha value:  8\n",
      "Ridge regression with hyperparameter tuning best score:  0.84736\n",
      "Ridge regression improvement after hyperparameter tuning: 0.00236%\n"
     ]
    }
   ],
   "source": [
    "alphas = [int(x) for x in np.linspace(1, 10, num = 20)]\n",
    "model = linear_model.Ridge()\n",
    "grid_ridge = GridSearchCV(estimator=model, param_grid=dict(alpha=alphas))\n",
    "grid_ridge.fit(x_train, y_train)\n",
    "print(\"Ridge regression best alpha value: \", grid_ridge.best_estimator_.alpha)\n",
    "print(\"Ridge regression with hyperparameter tuning best score: \", np.round(grid_ridge.best_score_, 5))\n",
    "print(\"Ridge regression improvement after hyperparameter tuning: {0}%\".format(np.round((1 - ((np.round(np.mean(cross_val_score(model, x_train, y_train, cv = 5, scoring = \"r2\")), 5)) \n",
    "                                                                                             / np.round(grid_ridge.best_score_, 5))) * 100, 5)))"
   ]
  },
  {
   "cell_type": "markdown",
   "metadata": {},
   "source": [
    "### Elastic Net regression"
   ]
  },
  {
   "cell_type": "code",
   "execution_count": 32,
   "metadata": {},
   "outputs": [
    {
     "name": "stdout",
     "output_type": "stream",
     "text": [
      "Elastic Net regression score:  0.79604\n"
     ]
    }
   ],
   "source": [
    "model = linear_model.ElasticNet()\n",
    "print(\"Elastic Net regression score: \", np.round(np.mean(cross_val_score(model, x_train, y_train, cv = 5, scoring = \"r2\")), 5))"
   ]
  },
  {
   "cell_type": "markdown",
   "metadata": {},
   "source": [
    "#### Elastic Net hyperparameter tuning"
   ]
  },
  {
   "cell_type": "code",
   "execution_count": 33,
   "metadata": {},
   "outputs": [
    {
     "name": "stdout",
     "output_type": "stream",
     "text": [
      "Elastic Net regression best alpha value:  0.02\n",
      "Elastic Net regression with hyperparameter tuning best score:  0.84736\n",
      "Elastic Net regression improvement after hyperparameter tuning: 6.05646%\n"
     ]
    }
   ],
   "source": [
    "alphas = np.array([0.01, 0.02, 0.025, 0.05,0.1,0.5,1])\n",
    "model = linear_model.ElasticNet()\n",
    "grid_elastic = GridSearchCV(estimator=model, param_grid=dict(alpha=alphas))\n",
    "grid_elastic.fit(x_train, y_train)\n",
    "\n",
    "print(\"Elastic Net regression best alpha value: \", grid_elastic.best_estimator_.alpha)\n",
    "print(\"Elastic Net regression with hyperparameter tuning best score: \", np.round(grid_elastic.best_score_, 5))\n",
    "print(\"Elastic Net regression improvement after hyperparameter tuning: {0}%\".format(np.round((1 - ((np.round(np.mean(cross_val_score(model, x_train, y_train, cv = 5, scoring = \"r2\")), 5)) \n",
    "                                                                                             / np.round(grid_elastic.best_score_, 5))) * 100, 5)))"
   ]
  },
  {
   "cell_type": "markdown",
   "metadata": {},
   "source": [
    "### Random Forest Regression"
   ]
  },
  {
   "cell_type": "code",
   "execution_count": 34,
   "metadata": {},
   "outputs": [
    {
     "name": "stdout",
     "output_type": "stream",
     "text": [
      "Random Forest regression score:  0.79404\n"
     ]
    }
   ],
   "source": [
    "from sklearn.ensemble import RandomForestRegressor\n",
    "rf_Model = RandomForestRegressor()\n",
    "print(\"Random Forest regression score: \", np.round(np.mean(cross_val_score(rf_Model, x_train, y_train.values.ravel(), cv = 5, scoring = \"r2\")), 5))      \n"
   ]
  },
  {
   "cell_type": "code",
   "execution_count": 35,
   "metadata": {},
   "outputs": [
    {
     "name": "stdout",
     "output_type": "stream",
     "text": [
      "{'n_estimators': [50, 75, 100], 'max_features': ['auto', 'sqrt'], 'max_depth': [2, 4, 8], 'min_samples_split': [2, 5, 10], 'min_samples_leaf': [1, 2, 4], 'bootstrap': [True, False]}\n"
     ]
    }
   ],
   "source": [
    "param_grid = {'n_estimators': [int(x) for x in np.linspace(50, 100, num = 3)],\n",
    "               'max_features': ['auto', 'sqrt'],\n",
    "               'max_depth': [2, 4, 8],\n",
    "               'min_samples_split': [2, 5,10],\n",
    "               'min_samples_leaf': [1, 2, 4],\n",
    "               'bootstrap': [True, False]}\n",
    "print(param_grid)"
   ]
  },
  {
   "cell_type": "markdown",
   "metadata": {},
   "source": [
    "#### Random Forest hyperpameter tuning"
   ]
  },
  {
   "cell_type": "code",
   "execution_count": 36,
   "metadata": {},
   "outputs": [
    {
     "name": "stdout",
     "output_type": "stream",
     "text": [
      "Fitting 5 folds for each of 324 candidates, totalling 1620 fits\n",
      "{'bootstrap': True, 'max_depth': 4, 'max_features': 'auto', 'min_samples_leaf': 4, 'min_samples_split': 2, 'n_estimators': 75}\n",
      "Random Forest regression with hyperparameter tuning best score:  0.84342\n",
      "Random Forest regression improvement after hyperparameter tuning: 5.81561%\n"
     ]
    }
   ],
   "source": [
    "from sklearn.ensemble import RandomForestRegressor\n",
    "rf_Model = RandomForestRegressor()\n",
    "rf_Grid = GridSearchCV(estimator = rf_Model, param_grid = param_grid, cv = 5, verbose=2, n_jobs = 4)\n",
    "rf_Grid.fit(x_train, y_train.values.ravel())\n",
    "print(rf_Grid.best_params_)\n",
    "print(\"Random Forest regression with hyperparameter tuning best score: \", np.round(rf_Grid.best_score_, 5))\n",
    "print(\"Random Forest regression improvement after hyperparameter tuning: {0}%\".format(np.round((1 - ((np.round(np.mean(cross_val_score(rf_Model, x_train, y_train.values.ravel(), cv = 5, scoring = \"r2\")), 5)) \n",
    "                                                                                             / np.round(rf_Grid.best_score_, 5))) * 100, 5)))"
   ]
  },
  {
   "cell_type": "markdown",
   "metadata": {},
   "source": [
    "### Gradient Boosting Regression"
   ]
  },
  {
   "cell_type": "code",
   "execution_count": 37,
   "metadata": {},
   "outputs": [
    {
     "name": "stdout",
     "output_type": "stream",
     "text": [
      "Gradient Booster regression score:  0.83922\n"
     ]
    }
   ],
   "source": [
    "from sklearn.ensemble import GradientBoostingRegressor\n",
    "gbr = GradientBoostingRegressor()\n",
    "print(\"Gradient Booster regression score: \", np.round(np.mean(cross_val_score(gbr, x_train, y_train.values.ravel(), cv = 5, scoring = \"r2\")), 5))      \n"
   ]
  },
  {
   "cell_type": "code",
   "execution_count": 38,
   "metadata": {},
   "outputs": [
    {
     "name": "stdout",
     "output_type": "stream",
     "text": [
      "{'n_estimators': [530, 535, 540], 'learning_rate': [0.005, 0.01, 0.02], 'max_depth': [1, 2, 4, 8], 'subsample': [0.63, 0.635, 0.64]}\n"
     ]
    }
   ],
   "source": [
    "param_grid = {'n_estimators': [530, 535, 540],\n",
    "               'learning_rate': [0.005, 0.01, 0.02],\n",
    "               'max_depth': [1, 2, 4, 8],\n",
    "               'subsample': [0.630, 0.635, 0.640]}\n",
    "print(param_grid)"
   ]
  },
  {
   "cell_type": "markdown",
   "metadata": {},
   "source": [
    "#### Gradient Boosting hyperparameter tuning"
   ]
  },
  {
   "cell_type": "code",
   "execution_count": 39,
   "metadata": {},
   "outputs": [
    {
     "name": "stdout",
     "output_type": "stream",
     "text": [
      "Fitting 5 folds for each of 108 candidates, totalling 540 fits\n",
      "{'learning_rate': 0.02, 'max_depth': 1, 'n_estimators': 535, 'subsample': 0.635}\n",
      "Gradient Booster regression with hyperparameter tuning best score:  0.84838\n",
      "Gradient Booster regression improvement after hyperparameter tuning: 1.0797%\n"
     ]
    }
   ],
   "source": [
    "model = GradientBoostingRegressor()\n",
    "grid_gbr = GridSearchCV(estimator = model, param_grid = param_grid, cv = 5, verbose=2, n_jobs = 4)\n",
    "grid_gbr.fit(x_train, y_train.values.ravel())\n",
    "print(grid_gbr.best_params_)\n",
    "print(\"Gradient Booster regression with hyperparameter tuning best score: \", np.round(grid_gbr.best_score_, 5))\n",
    "print(\"Gradient Booster regression improvement after hyperparameter tuning: {0}%\".format(np.round((1 - ((np.round(np.mean(cross_val_score(gbr, x_train, y_train.values.ravel(), cv = 5, scoring = \"r2\")), 5)) \n",
    "                                                                                             / np.round(grid_gbr.best_score_, 5))) * 100, 5)))"
   ]
  },
  {
   "cell_type": "markdown",
   "metadata": {},
   "source": [
    "### XGBooster Regression"
   ]
  },
  {
   "cell_type": "code",
   "execution_count": 40,
   "metadata": {},
   "outputs": [
    {
     "data": {
      "text/plain": [
       "0.7452812097434034"
      ]
     },
     "execution_count": 40,
     "metadata": {},
     "output_type": "execute_result"
    }
   ],
   "source": [
    "import xgboost\n",
    "xgb = xgboost.XGBRegressor()\n",
    "np.mean(cross_val_score(xgb, x_train, y_train, cv = 5, scoring = \"r2\"))       "
   ]
  },
  {
   "cell_type": "code",
   "execution_count": 41,
   "metadata": {},
   "outputs": [
    {
     "name": "stdout",
     "output_type": "stream",
     "text": [
      "{'n_estimators': [390, 400, 410], 'learning_rate': [0.02, 0.021, 0.022], 'max_depth': [2, 4, 8], 'colsample_bytree': [0.5, 0.75, 1], 'subsample': [0.7, 0.8, 0.9], 'tree_method': ['hist']}\n"
     ]
    }
   ],
   "source": [
    "param_grid = {'n_estimators': [390, 400, 410],\n",
    "               'learning_rate': [0.02, 0.021, 0.022],\n",
    "               'max_depth': [2, 4, 8],\n",
    "               'colsample_bytree': [0.5,0.75, 1],\n",
    "               'subsample': [0.7,0.8, 0.9],\n",
    "            'tree_method': [\"hist\"] }\n",
    "print(param_grid)"
   ]
  },
  {
   "cell_type": "markdown",
   "metadata": {},
   "source": [
    "#### XGBoost hyperparameter tuning"
   ]
  },
  {
   "cell_type": "code",
   "execution_count": 42,
   "metadata": {},
   "outputs": [
    {
     "name": "stdout",
     "output_type": "stream",
     "text": [
      "Fitting 5 folds for each of 243 candidates, totalling 1215 fits\n",
      "{'colsample_bytree': 0.5, 'learning_rate': 0.02, 'max_depth': 2, 'n_estimators': 410, 'subsample': 0.7, 'tree_method': 'hist'}\n",
      "XGBoost regression with hyperparameter tuning best score:  0.84829\n",
      "XGBoost Forest regression improvement after hyperparameter tuning: 12.14325%\n"
     ]
    }
   ],
   "source": [
    "model = xgboost.XGBRegressor()\n",
    "grid_xgb = GridSearchCV(estimator = model, param_grid = param_grid, cv = 5, verbose=2, n_jobs = 4)\n",
    "grid_xgb.fit(x_train, y_train)\n",
    "print(grid_xgb.best_params_)\n",
    "print(\"XGBoost regression with hyperparameter tuning best score: \", np.round(grid_xgb.best_score_, 5))\n",
    "print(\"XGBoost Forest regression improvement after hyperparameter tuning: {0}%\".format(np.round((1 - ((np.round(np.mean(cross_val_score(xgb, x_train, y_train, cv = 5, scoring = \"r2\")), 5)) \n",
    "                                                                                             / np.round(grid_xgb.best_score_, 5))) * 100, 5)))"
   ]
  },
  {
   "cell_type": "markdown",
   "metadata": {},
   "source": [
    "### Polynomial regression"
   ]
  },
  {
   "cell_type": "code",
   "execution_count": 43,
   "metadata": {},
   "outputs": [
    {
     "name": "stdout",
     "output_type": "stream",
     "text": [
      "0.83863232470495\n"
     ]
    }
   ],
   "source": [
    "from sklearn.preprocessing import PolynomialFeatures\n",
    "def create_polynomial_regression_model(degree):\n",
    "    poly_features = PolynomialFeatures(degree=degree)\n",
    "    X_poly = poly_features.fit_transform(x_train)\n",
    "    poly = LinearRegression()\n",
    "    return np.mean(cross_val_score(poly, X_poly, y_train, cv=5, scoring = \"r2\"))\n",
    "cv_scores=[]\n",
    "degrees =[2,3,4,5]\n",
    "for degree in degrees:\n",
    "    cv_scores.append(create_polynomial_regression_model(degree))\n",
    "    \n",
    "print(max(cv_scores))\n",
    "    \n"
   ]
  },
  {
   "cell_type": "code",
   "execution_count": 44,
   "metadata": {},
   "outputs": [
    {
     "data": {
      "text/plain": [
       "Text(0.5, 1.0, 'R2 VS Degree')"
      ]
     },
     "execution_count": 44,
     "metadata": {},
     "output_type": "execute_result"
    },
    {
     "data": {
      "image/png": "[encoded data removed]",
      "text/plain": [
       "<Figure size 432x432 with 1 Axes>"
      ]
     },
     "metadata": {
      "needs_background": "light"
     },
     "output_type": "display_data"
    }
   ],
   "source": [
    "fig,ax=plt.subplots(figsize=(6,6))\n",
    "ax.plot(degrees,cv_scores)\n",
    "ax.set_xlabel('Degree',fontsize=20)\n",
    "ax.set_ylabel('R2',fontsize=20)\n",
    "ax.set_title('R2 VS Degree',fontsize=25)"
   ]
  },
  {
   "cell_type": "code",
   "execution_count": 45,
   "metadata": {},
   "outputs": [
    {
     "data": {
      "text/plain": [
       "LinearRegression()"
      ]
     },
     "execution_count": 45,
     "metadata": {},
     "output_type": "execute_result"
    }
   ],
   "source": [
    "poly_features = PolynomialFeatures(degree=2)\n",
    "X_poly = poly_features.fit_transform(x_train)\n",
    "poly = LinearRegression()\n",
    "poly.fit(x_train, y_train)\n",
    "\n",
    "    "
   ]
  },
  {
   "cell_type": "markdown",
   "metadata": {},
   "source": [
    "# Model Evaluation"
   ]
  },
  {
   "cell_type": "code",
   "execution_count": 46,
   "metadata": {},
   "outputs": [],
   "source": [
    "ols_yhat = ols.predict(x_test)\n",
    "lasso_yhat  = grid_lasso.best_estimator_.predict(x_test)\n",
    "ridge_yhat = grid_ridge.best_estimator_.predict(x_test)\n",
    "elastic_yhat = grid_elastic.best_estimator_.predict(x_test)\n",
    "forest_yhat = rf_Grid.best_estimator_.predict(x_test)\n",
    "xgb_yhat = grid_xgb.predict(x_test)\n",
    "gbr_yhat = grid_gbr.predict(x_test)\n",
    "poly_yhat = poly.predict(x_test)"
   ]
  },
  {
   "cell_type": "markdown",
   "metadata": {},
   "source": [
    "We make predictions using test data so we can get a glimpse at the models performance with unknown data."
   ]
  },
  {
   "cell_type": "code",
   "execution_count": 47,
   "metadata": {},
   "outputs": [
    {
     "name": "stdout",
     "output_type": "stream",
     "text": [
      "Ordinary Least Square accuracy: 0.90\n",
      "Lasso regression accuracy: 0.90\n",
      "Ridge regression accuracy: 0.90\n",
      "Elastic net regression accuracy: 0.90\n",
      "Random forest regression accuracy: 0.90\n",
      "Gradient Booster regression accuracy: 0.90\n",
      "XGBoost regression accuracy: 0.90\n",
      "Polynomial regression accuracy: 0.90\n"
     ]
    }
   ],
   "source": [
    "from sklearn.metrics import r2_score\n",
    "\n",
    "\n",
    "print(\"Ordinary Least Square accuracy: %.2f\" % r2_score(y_test, ols_yhat) )\n",
    "print(\"Lasso regression accuracy: %.2f\" % r2_score(y_test, lasso_yhat) )\n",
    "print(\"Ridge regression accuracy: %.2f\" % r2_score(y_test, ridge_yhat) )\n",
    "print(\"Elastic net regression accuracy: %.2f\" % r2_score(y_test, elastic_yhat) )\n",
    "print(\"Random forest regression accuracy: %.2f\" % r2_score(y_test, forest_yhat) )\n",
    "print(\"Gradient Booster regression accuracy: %.2f\" % r2_score(y_test, gbr_yhat) )\n",
    "print(\"XGBoost regression accuracy: %.2f\" % r2_score(y_test, xgb_yhat) )\n",
    "print(\"Polynomial regression accuracy: %.2f\" % r2_score(y_test, poly_yhat) )"
   ]
  },
  {
   "cell_type": "markdown",
   "metadata": {},
   "source": [
    "We chose R2 as the evaluation metric because we think is pretty easy to interpret and easy to compare between models. As we can see, we were able to get a score of 0.90 R2 on 3 models. We think that is solid."
   ]
  },
  {
   "cell_type": "code",
   "execution_count": 48,
   "metadata": {},
   "outputs": [
    {
     "name": "stdout",
     "output_type": "stream",
     "text": [
      "Ordinary Least Square accuracy: 13920448.14\n",
      "Lasso regression accuracy: 13879480.35\n",
      "Ridge regression accuracy: 13888292.52\n",
      "Elastic net regression accuracy: 13879181.63\n",
      "Random forest regression accuracy: 14025333.30\n",
      "Gradient Booster regression accuracy: 13298281.09\n",
      "XGBoost regression accuracy: 13536090.80\n",
      "Polynomial regression accuracy: 13920448.14\n"
     ]
    }
   ],
   "source": [
    "from sklearn.metrics import mean_squared_error\n",
    "\n",
    "\n",
    "print(\"Ordinary Least Square accuracy: %.2f\" % mean_squared_error(y_test, ols_yhat) )\n",
    "print(\"Lasso regression accuracy: %.2f\" % mean_squared_error(y_test, lasso_yhat) )\n",
    "print(\"Ridge regression accuracy: %.2f\" % mean_squared_error(y_test, ridge_yhat) )\n",
    "print(\"Elastic net regression accuracy: %.2f\" % mean_squared_error(y_test, elastic_yhat) )\n",
    "print(\"Random forest regression accuracy: %.2f\" % mean_squared_error(y_test, forest_yhat) )\n",
    "print(\"Gradient Booster regression accuracy: %.2f\" % mean_squared_error(y_test, gbr_yhat) )\n",
    "print(\"XGBoost regression accuracy: %.2f\" % mean_squared_error(y_test, xgb_yhat) )\n",
    "print(\"Polynomial regression accuracy: %.2f\" % mean_squared_error(y_test, poly_yhat) )"
   ]
  },
  {
   "cell_type": "markdown",
   "metadata": {},
   "source": [
    "In order to differentiate which model was the best, since all of them have an R2 of 0.9, I decided to use mean squared error as the metric to differentiate them and Gradient Booster regression model was the winner."
   ]
  },
  {
   "cell_type": "markdown",
   "metadata": {},
   "source": [
    "## BONUS!!!"
   ]
  },
  {
   "cell_type": "markdown",
   "metadata": {},
   "source": [
    "Since we were able to get 8 models with R2 score of 0.9 R2, we want to try different approaches to see if we can get better. We will use these 2:\n",
    "- Stack Regression\n",
    "- Artifical Neural Network (ANN)\n",
    "        \n",
    "    "
   ]
  },
  {
   "cell_type": "markdown",
   "metadata": {},
   "source": [
    "### Stack Regression"
   ]
  },
  {
   "cell_type": "code",
   "execution_count": 49,
   "metadata": {},
   "outputs": [
    {
     "data": {
      "text/plain": [
       "StackingRegressor(estimators=[('ridge', Ridge(alpha=8)),\n",
       "                              ('lasso', Lasso(alpha=1)),\n",
       "                              ('gbr',\n",
       "                               GradientBoostingRegressor(learning_rate=0.02,\n",
       "                                                         max_depth=1,\n",
       "                                                         n_estimators=540,\n",
       "                                                         subsample=0.64)),\n",
       "                              ('xgb',\n",
       "                               XGBRegressor(base_score=None, booster=None,\n",
       "                                            callbacks=None,\n",
       "                                            colsample_bylevel=None,\n",
       "                                            colsample_bynode=None,\n",
       "                                            colsample_bytree=0.5,\n",
       "                                            early_stopping_rounds=None,\n",
       "                                            enable_categori...\n",
       "                                            interaction_constraints=None,\n",
       "                                            learning_rate=0.02, max_bin=None,\n",
       "                                            max_cat_to_onehot=None,\n",
       "                                            max_delta_step=None, max_depth=2,\n",
       "                                            max_leaves=None,\n",
       "                                            min_child_weight=None, missing=nan,\n",
       "                                            monotone_constraints=None,\n",
       "                                            n_estimators=410, n_jobs=None,\n",
       "                                            num_parallel_tree=None,\n",
       "                                            predictor=None, random_state=None,\n",
       "                                            reg_alpha=None, reg_lambda=None, ...))],\n",
       "                  final_estimator=LinearRegression())"
      ]
     },
     "execution_count": 49,
     "metadata": {},
     "output_type": "execute_result"
    }
   ],
   "source": [
    "from sklearn.ensemble import StackingRegressor\n",
    "estimators = [('ridge', linear_model.Ridge(alpha = 8)),\n",
    "              ('lasso', linear_model.Lasso(alpha = 1 )),\n",
    "              ('gbr', GradientBoostingRegressor(learning_rate = 0.02, max_depth = 1, \n",
    "                                                 n_estimators = 540, subsample = 0.640)),\n",
    "             ('xgb', xgboost.XGBRegressor(colsample_bytree = 0.5, learning_rate = 0.02, max_depth = 2,\n",
    "                                                                n_estimators = 410, subsample = 0.7, tree_method = 'hist'))]\n",
    "\n",
    "stack = StackingRegressor(estimators = estimators, final_estimator = ols)\n",
    "\n",
    "stack.fit(x_train, y_train)\n",
    "\n",
    "\n",
    "\n",
    "\n"
   ]
  },
  {
   "cell_type": "code",
   "execution_count": 50,
   "metadata": {},
   "outputs": [
    {
     "name": "stdout",
     "output_type": "stream",
     "text": [
      "Stacked regression accuracy in R2: 0.90\n",
      "Stacked regression accuracy in MSE: 13488427.59\n"
     ]
    }
   ],
   "source": [
    "stack_yhat = stack.predict(x_test)\n",
    "\n",
    "print(\"Stacked regression accuracy in R2: %.2f\" % r2_score(y_test, stack_yhat) )\n",
    "print(\"Stacked regression accuracy in MSE: %.2f\" % mean_squared_error(y_test, stack_yhat) )\n",
    "\n"
   ]
  },
  {
   "cell_type": "markdown",
   "metadata": {},
   "source": [
    "As we see, this regression stack performed very well on unknown data, but was unable to beat Gradient Boosting."
   ]
  },
  {
   "cell_type": "markdown",
   "metadata": {},
   "source": [
    "### Artificial Neural Network (ANN)"
   ]
  },
  {
   "cell_type": "code",
   "execution_count": 51,
   "metadata": {},
   "outputs": [],
   "source": [
    "import math\n",
    "import tensorflow as tf\n",
    "from tensorflow.keras import Model\n",
    "from tensorflow.keras import Sequential\n",
    "from tensorflow.keras.optimizers import Adam\n",
    "from tensorflow.keras.layers import Dense, Dropout\n",
    "from tensorflow.keras.losses import MeanSquaredError"
   ]
  },
  {
   "cell_type": "code",
   "execution_count": 52,
   "metadata": {},
   "outputs": [],
   "source": [
    "hidden_units1 = 160\n",
    "hidden_units2 = 480\n",
    "hidden_units3 = 256\n",
    "learning_rate = 0.01\n",
    "# Creating model using the Sequential in tensorflow\n",
    "def build_model_using_sequential():\n",
    "    model = Sequential([\n",
    "    Dense(hidden_units1, kernel_initializer='normal', activation='relu'),\n",
    "    Dropout(0.2),\n",
    "    Dense(hidden_units2, kernel_initializer='normal', activation='relu'),\n",
    "    Dropout(0.2),\n",
    "    Dense(hidden_units3, kernel_initializer='normal', activation='relu'),\n",
    "    Dense(1, kernel_initializer='normal', activation='linear')\n",
    "  ])\n",
    "    return model\n",
    "\n",
    "ann = build_model_using_sequential()"
   ]
  },
  {
   "cell_type": "code",
   "execution_count": 53,
   "metadata": {},
   "outputs": [],
   "source": [
    "x_train = pd.DataFrame(x_train)\n",
    "y_train = pd.DataFrame(y_train)"
   ]
  },
  {
   "cell_type": "code",
   "execution_count": 54,
   "metadata": {},
   "outputs": [
    {
     "name": "stdout",
     "output_type": "stream",
     "text": [
      "Epoch 1/40\n",
      "14/14 [==============================] - 1s 23ms/step - loss: 324498016.0000 - mean_squared_error: 321990432.0000 - val_loss: 176142688.0000 - val_mean_squared_error: 190675824.0000\n",
      "Epoch 2/40\n",
      "14/14 [==============================] - 0s 7ms/step - loss: 105917256.0000 - mean_squared_error: 104007512.0000 - val_loss: 24013950.0000 - val_mean_squared_error: 24631828.0000\n",
      "Epoch 3/40\n",
      "14/14 [==============================] - 0s 7ms/step - loss: 38421764.0000 - mean_squared_error: 38535640.0000 - val_loss: 25540534.0000 - val_mean_squared_error: 27448236.0000\n",
      "Epoch 4/40\n",
      "14/14 [==============================] - 0s 7ms/step - loss: 27389152.0000 - mean_squared_error: 28477284.0000 - val_loss: 23809918.0000 - val_mean_squared_error: 25148634.0000\n",
      "Epoch 5/40\n",
      "14/14 [==============================] - 0s 7ms/step - loss: 23913152.0000 - mean_squared_error: 23174092.0000 - val_loss: 22287958.0000 - val_mean_squared_error: 23328160.0000\n",
      "Epoch 6/40\n",
      "14/14 [==============================] - 0s 7ms/step - loss: 22948966.0000 - mean_squared_error: 23350988.0000 - val_loss: 22007560.0000 - val_mean_squared_error: 23124662.0000\n",
      "Epoch 7/40\n",
      "14/14 [==============================] - 0s 7ms/step - loss: 23002076.0000 - mean_squared_error: 23193230.0000 - val_loss: 22663680.0000 - val_mean_squared_error: 23969232.0000\n",
      "Epoch 8/40\n",
      "14/14 [==============================] - 0s 7ms/step - loss: 23105236.0000 - mean_squared_error: 22534846.0000 - val_loss: 22168198.0000 - val_mean_squared_error: 23451100.0000\n",
      "Epoch 9/40\n",
      "14/14 [==============================] - 0s 7ms/step - loss: 24174218.0000 - mean_squared_error: 23339106.0000 - val_loss: 24157842.0000 - val_mean_squared_error: 25270824.0000\n",
      "Epoch 10/40\n",
      "14/14 [==============================] - 0s 6ms/step - loss: 23716282.0000 - mean_squared_error: 23455844.0000 - val_loss: 22112974.0000 - val_mean_squared_error: 23260932.0000\n",
      "Epoch 11/40\n",
      "14/14 [==============================] - 0s 6ms/step - loss: 23882438.0000 - mean_squared_error: 24325290.0000 - val_loss: 22130312.0000 - val_mean_squared_error: 23343850.0000\n",
      "Epoch 12/40\n",
      "14/14 [==============================] - 0s 6ms/step - loss: 22972794.0000 - mean_squared_error: 22959420.0000 - val_loss: 22859576.0000 - val_mean_squared_error: 24261866.0000\n",
      "Epoch 13/40\n",
      "14/14 [==============================] - 0s 7ms/step - loss: 23083982.0000 - mean_squared_error: 22858906.0000 - val_loss: 22497588.0000 - val_mean_squared_error: 23887396.0000\n",
      "Epoch 14/40\n",
      "14/14 [==============================] - 0s 6ms/step - loss: 23265704.0000 - mean_squared_error: 24164580.0000 - val_loss: 22202816.0000 - val_mean_squared_error: 23507814.0000\n",
      "Epoch 15/40\n",
      "14/14 [==============================] - 0s 6ms/step - loss: 23458596.0000 - mean_squared_error: 24104044.0000 - val_loss: 21895842.0000 - val_mean_squared_error: 22909730.0000\n",
      "Epoch 16/40\n",
      "14/14 [==============================] - 0s 6ms/step - loss: 23101588.0000 - mean_squared_error: 23205462.0000 - val_loss: 21881466.0000 - val_mean_squared_error: 23119224.0000\n",
      "Epoch 17/40\n",
      "14/14 [==============================] - 0s 7ms/step - loss: 22344974.0000 - mean_squared_error: 22438636.0000 - val_loss: 22444568.0000 - val_mean_squared_error: 23854512.0000\n",
      "Epoch 18/40\n",
      "14/14 [==============================] - 0s 7ms/step - loss: 22875342.0000 - mean_squared_error: 22499546.0000 - val_loss: 21733402.0000 - val_mean_squared_error: 22844796.0000\n",
      "Epoch 19/40\n",
      "14/14 [==============================] - 0s 7ms/step - loss: 22248476.0000 - mean_squared_error: 22852364.0000 - val_loss: 22149608.0000 - val_mean_squared_error: 23454736.0000\n",
      "Epoch 20/40\n",
      "14/14 [==============================] - 0s 7ms/step - loss: 23044508.0000 - mean_squared_error: 23197754.0000 - val_loss: 22432040.0000 - val_mean_squared_error: 23347672.0000\n",
      "Epoch 21/40\n",
      "14/14 [==============================] - 0s 6ms/step - loss: 24635602.0000 - mean_squared_error: 24467904.0000 - val_loss: 24592226.0000 - val_mean_squared_error: 25727762.0000\n",
      "Epoch 22/40\n",
      "14/14 [==============================] - 0s 9ms/step - loss: 24200304.0000 - mean_squared_error: 24076962.0000 - val_loss: 24321338.0000 - val_mean_squared_error: 25446884.0000\n",
      "Epoch 23/40\n",
      "14/14 [==============================] - 0s 8ms/step - loss: 23026850.0000 - mean_squared_error: 23416252.0000 - val_loss: 22464318.0000 - val_mean_squared_error: 23552664.0000\n",
      "Epoch 24/40\n",
      "14/14 [==============================] - 0s 9ms/step - loss: 22486878.0000 - mean_squared_error: 22457724.0000 - val_loss: 22121696.0000 - val_mean_squared_error: 23362764.0000\n",
      "Epoch 25/40\n",
      "14/14 [==============================] - 0s 8ms/step - loss: 22664646.0000 - mean_squared_error: 23108510.0000 - val_loss: 22247434.0000 - val_mean_squared_error: 23462348.0000\n",
      "Epoch 26/40\n",
      "14/14 [==============================] - 0s 7ms/step - loss: 23433424.0000 - mean_squared_error: 23981014.0000 - val_loss: 21998508.0000 - val_mean_squared_error: 23113924.0000\n",
      "Epoch 27/40\n",
      "14/14 [==============================] - 0s 7ms/step - loss: 22909940.0000 - mean_squared_error: 24826610.0000 - val_loss: 22239614.0000 - val_mean_squared_error: 23659204.0000\n",
      "Epoch 28/40\n",
      "14/14 [==============================] - 0s 7ms/step - loss: 22802396.0000 - mean_squared_error: 21948786.0000 - val_loss: 22128906.0000 - val_mean_squared_error: 23221680.0000\n",
      "Epoch 29/40\n",
      "14/14 [==============================] - 0s 7ms/step - loss: 22740630.0000 - mean_squared_error: 23303134.0000 - val_loss: 22474726.0000 - val_mean_squared_error: 23886284.0000\n",
      "Epoch 30/40\n",
      "14/14 [==============================] - 0s 6ms/step - loss: 21979436.0000 - mean_squared_error: 21192928.0000 - val_loss: 22267746.0000 - val_mean_squared_error: 23457516.0000\n",
      "Epoch 31/40\n",
      "14/14 [==============================] - 0s 6ms/step - loss: 22642970.0000 - mean_squared_error: 22451408.0000 - val_loss: 23593004.0000 - val_mean_squared_error: 25257920.0000\n",
      "Epoch 32/40\n",
      "14/14 [==============================] - 0s 6ms/step - loss: 24048604.0000 - mean_squared_error: 24022530.0000 - val_loss: 23293632.0000 - val_mean_squared_error: 24974692.0000\n",
      "Epoch 33/40\n",
      "14/14 [==============================] - 0s 7ms/step - loss: 23379366.0000 - mean_squared_error: 23312948.0000 - val_loss: 22379226.0000 - val_mean_squared_error: 23703666.0000\n",
      "Epoch 34/40\n",
      "14/14 [==============================] - 0s 7ms/step - loss: 22780002.0000 - mean_squared_error: 23102820.0000 - val_loss: 21963266.0000 - val_mean_squared_error: 23215944.0000\n",
      "Epoch 35/40\n",
      "14/14 [==============================] - 0s 6ms/step - loss: 22323188.0000 - mean_squared_error: 22473296.0000 - val_loss: 22086728.0000 - val_mean_squared_error: 23385562.0000\n",
      "Epoch 36/40\n",
      "14/14 [==============================] - 0s 6ms/step - loss: 22964190.0000 - mean_squared_error: 23793326.0000 - val_loss: 21904584.0000 - val_mean_squared_error: 23204042.0000\n",
      "Epoch 37/40\n",
      "14/14 [==============================] - 0s 6ms/step - loss: 22788914.0000 - mean_squared_error: 23831856.0000 - val_loss: 22482708.0000 - val_mean_squared_error: 23812750.0000\n",
      "Epoch 38/40\n",
      "14/14 [==============================] - 0s 6ms/step - loss: 22950384.0000 - mean_squared_error: 23525814.0000 - val_loss: 24030050.0000 - val_mean_squared_error: 25631890.0000\n",
      "Epoch 39/40\n",
      "14/14 [==============================] - 0s 6ms/step - loss: 22820194.0000 - mean_squared_error: 22171700.0000 - val_loss: 22058120.0000 - val_mean_squared_error: 23345694.0000\n",
      "Epoch 40/40\n",
      "14/14 [==============================] - 0s 6ms/step - loss: 22673042.0000 - mean_squared_error: 23123508.0000 - val_loss: 22009696.0000 - val_mean_squared_error: 23235150.0000\n"
     ]
    }
   ],
   "source": [
    "# loss function\n",
    "mse = MeanSquaredError()\n",
    "ann.compile(\n",
    "    loss=mse, \n",
    "    optimizer=Adam(learning_rate=learning_rate), \n",
    "    metrics=[mse]\n",
    ")\n",
    "# train the model\n",
    "history = ann.fit(\n",
    "    x_train.values, \n",
    "    y_train.values, \n",
    "    epochs=40, \n",
    "    batch_size=64,\n",
    "    validation_split=0.2\n",
    ")"
   ]
  },
  {
   "cell_type": "code",
   "execution_count": 55,
   "metadata": {},
   "outputs": [
    {
     "data": {
      "image/png": "[encoded data removed]",
      "text/plain": [
       "<Figure size 1440x360 with 1 Axes>"
      ]
     },
     "metadata": {
      "needs_background": "light"
     },
     "output_type": "display_data"
    }
   ],
   "source": [
    "def plot_history(history, key):\n",
    "  plt.plot(history.history[key])\n",
    "  plt.plot(history.history['val_'+key])\n",
    "  plt.xlabel(\"Epochs\")\n",
    "  plt.ylabel(key)\n",
    "  plt.legend([key, 'val_'+key])\n",
    "  plt.show()\n",
    "# Plot the history\n",
    "plot_history(history, 'mean_squared_error')"
   ]
  },
  {
   "cell_type": "code",
   "execution_count": 56,
   "metadata": {},
   "outputs": [
    {
     "name": "stdout",
     "output_type": "stream",
     "text": [
      "9/9 [==============================] - 0s 2ms/step\n"
     ]
    }
   ],
   "source": [
    "nn_yhat = ann.predict(x_test)"
   ]
  },
  {
   "cell_type": "code",
   "execution_count": 57,
   "metadata": {},
   "outputs": [
    {
     "name": "stdout",
     "output_type": "stream",
     "text": [
      "Neural Net regression accuracy in R2: 13313031.79\n",
      "Neural Net regression accuracy in R2: 0.90\n"
     ]
    }
   ],
   "source": [
    "print(\"Neural Net regression accuracy in R2: %.2f\" % mean_squared_error(y_test, nn_yhat) )\n",
    "print(\"Neural Net regression accuracy in R2: %.2f\" % r2_score(y_test, nn_yhat) )"
   ]
  },
  {
   "cell_type": "markdown",
   "metadata": {},
   "source": [
    "We can se the same case as Stacked Regression, pretty good performance but doesn't beat Gradient Boosting regressor."
   ]
  },
  {
   "cell_type": "code",
   "execution_count": 62,
   "metadata": {},
   "outputs": [
    {
     "data": {
      "text/html": [
       "<div>\n",
       "<style scoped>\n",
       "    .dataframe tbody tr th:only-of-type {\n",
       "        vertical-align: middle;\n",
       "    }\n",
       "\n",
       "    .dataframe tbody tr th {\n",
       "        vertical-align: top;\n",
       "    }\n",
       "\n",
       "    .dataframe thead th {\n",
       "        text-align: right;\n",
       "    }\n",
       "</style>\n",
       "<table border=\"1\" class=\"dataframe\">\n",
       "  <thead>\n",
       "    <tr style=\"text-align: right;\">\n",
       "      <th></th>\n",
       "      <th>charges</th>\n",
       "      <th>predictions</th>\n",
       "    </tr>\n",
       "  </thead>\n",
       "  <tbody>\n",
       "    <tr>\n",
       "      <th>0</th>\n",
       "      <td>5125.21570</td>\n",
       "      <td>6808.687903</td>\n",
       "    </tr>\n",
       "    <tr>\n",
       "      <th>1</th>\n",
       "      <td>1704.56810</td>\n",
       "      <td>3576.548749</td>\n",
       "    </tr>\n",
       "    <tr>\n",
       "      <th>2</th>\n",
       "      <td>12925.88600</td>\n",
       "      <td>15582.720038</td>\n",
       "    </tr>\n",
       "    <tr>\n",
       "      <th>3</th>\n",
       "      <td>4237.12655</td>\n",
       "      <td>6234.730135</td>\n",
       "    </tr>\n",
       "    <tr>\n",
       "      <th>4</th>\n",
       "      <td>7954.51700</td>\n",
       "      <td>7927.726712</td>\n",
       "    </tr>\n",
       "    <tr>\n",
       "      <th>...</th>\n",
       "      <td>...</td>\n",
       "      <td>...</td>\n",
       "    </tr>\n",
       "    <tr>\n",
       "      <th>263</th>\n",
       "      <td>11363.28320</td>\n",
       "      <td>12606.909523</td>\n",
       "    </tr>\n",
       "    <tr>\n",
       "      <th>264</th>\n",
       "      <td>11013.71190</td>\n",
       "      <td>14019.871185</td>\n",
       "    </tr>\n",
       "    <tr>\n",
       "      <th>265</th>\n",
       "      <td>1711.02680</td>\n",
       "      <td>4252.955760</td>\n",
       "    </tr>\n",
       "    <tr>\n",
       "      <th>266</th>\n",
       "      <td>14901.51670</td>\n",
       "      <td>14739.991906</td>\n",
       "    </tr>\n",
       "    <tr>\n",
       "      <th>267</th>\n",
       "      <td>40182.24600</td>\n",
       "      <td>40638.370674</td>\n",
       "    </tr>\n",
       "  </tbody>\n",
       "</table>\n",
       "<p>268 rows × 2 columns</p>\n",
       "</div>"
      ],
      "text/plain": [
       "         charges   predictions\n",
       "0     5125.21570   6808.687903\n",
       "1     1704.56810   3576.548749\n",
       "2    12925.88600  15582.720038\n",
       "3     4237.12655   6234.730135\n",
       "4     7954.51700   7927.726712\n",
       "..           ...           ...\n",
       "263  11363.28320  12606.909523\n",
       "264  11013.71190  14019.871185\n",
       "265   1711.02680   4252.955760\n",
       "266  14901.51670  14739.991906\n",
       "267  40182.24600  40638.370674\n",
       "\n",
       "[268 rows x 2 columns]"
      ]
     },
     "execution_count": 62,
     "metadata": {},
     "output_type": "execute_result"
    }
   ],
   "source": [
    "gbr_ytest =  y_test.reset_index(drop=True)\n",
    "gbr_ypred = pd.DataFrame(gbr_yhat)\n",
    "dfs = [gbr_ytest, gbr_ypred ]\n",
    "gbr_df = pd.concat(dfs, axis = 1)\n",
    "gbr_df.rename(columns = {0:'predictions'}, inplace = True)\n",
    "gbr_df"
   ]
  },
  {
   "cell_type": "markdown",
   "metadata": {},
   "source": [
    "Since Gradient Boost regression perfomed the best on cross-validation for training set, we use it in order to see the comparison between the actual charges and comparisons.\n",
    "\n",
    "We suggest that an indicator such as body fat percentage would be a better predictor than Body Mass Index (BMI) in order to make better models.\n",
    "\n",
    "From correlation standpoint we can safely say that individuals with smoking habit will end up spending more money on health insurance."
   ]
  },
  {
   "cell_type": "markdown",
   "metadata": {},
   "source": [
    "Thanks getting this far into reading this boring stuff. If you learned something then I could be greateful and in case you have any feedback (which I would hugely appreciate since I want to become a Data Scientist) please let me know! "
   ]
  }
 ],
 "metadata": {
  "kernelspec": {
   "display_name": "Python 3 (ipykernel)",
   "language": "python",
   "name": "python3"
  },
  "language_info": {
   "codemirror_mode": {
    "name": "ipython",
    "version": 3
   },
   "file_extension": ".py",
   "mimetype": "text/x-python",
   "name": "python",
   "nbconvert_exporter": "python",
   "pygments_lexer": "ipython3",
   "version": "3.9.7"
  }
 },
 "nbformat": 4,
 "nbformat_minor": 4
}
